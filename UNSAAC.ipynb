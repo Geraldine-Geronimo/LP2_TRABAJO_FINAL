{
 "cells": [
  {
   "cell_type": "markdown",
   "id": "f807b6d9",
   "metadata": {},
   "source": [
    "**REPOSITORIO UNSAAC**\n",
    "\n",
    "- Alex Jesus Flores Taco   (20210833)\n",
    "\n"
   ]
  },
  {
   "cell_type": "code",
   "execution_count": null,
   "id": "4af55682",
   "metadata": {},
   "outputs": [],
   "source": [
    "# Cargando librerías o módulos pertinentes\n",
    "import requests\n",
    "from bs4 import BeautifulSoup\n",
    "import re\n",
    "import itertools\n",
    "import pandas as pd"
   ]
  },
  {
   "cell_type": "code",
   "execution_count": null,
   "id": "9a945a18",
   "metadata": {},
   "outputs": [],
   "source": [
    "# Creando una función que permite extraer todas las urls de las páginas que contienen\n",
    "# las publicaciones encontradas en erespectivo repositorio\n",
    "def all_pages(url):\n",
    "    # Descargar el contenido de la página\n",
    "    page = requests.get(url)\n",
    "    # Crear un objeto BeautifulSoup a partir del contenido de la página\n",
    "    soup = BeautifulSoup(page.content, \"html.parser\")\n",
    "    # Encontrar el tag a que contiene el url base de las páginas que contienen las publicaciones\n",
    "    pages = soup.find_all(\"a\", {\"class\":\"next-page-link\"})\n",
    "    # Extraer el url base de las páginas que contienen las publicaciones\n",
    "    pages_soup = BeautifulSoup(str(pages), 'html.parser')\n",
    "    a_tags = pages_soup.find_all('a') # find all anchor elements\n",
    "    base_href = [\"https://repositorio.unsaac.edu.pe/\" + a_tag['href'] for a_tag in a_tags][0]\n",
    "    # Crear lista de límites inferiores de cada url-página\n",
    "    string_pages = soup.find_all(\"p\", {\"class\":\"pagination-info\"})\n",
    "    matches = re.findall(\"\\d+\", str(string_pages[0]))\n",
    "    lower_limit_max = (max([int(item) for item in matches]) // 20) * 20\n",
    "    lower_limits = list(range(0, lower_limit_max + 20, 20))\n",
    "    # Crear lista de urls de cada una de las páginas \n",
    "    hrefs_all = [re.sub(r\"offset=\\d+\", \"offset=\" + str(pag), base_href) for pag in lower_limits]\n",
    "    return hrefs_all"
   ]
  },
  {
   "cell_type": "code",
   "execution_count": null,
   "id": "d0a46892",
   "metadata": {},
   "outputs": [],
   "source": [
    "all_pages('https://repositorio.unsaac.edu.pe/browse?type=dateissued')"
   ]
  },
  {
   "cell_type": "code",
   "execution_count": null,
   "id": "48a098b4",
   "metadata": {},
   "outputs": [],
   "source": [
    "# Creando una función que permite extraer todas las urls de la tabla de datos de las\n",
    "# publicaciones de una determina página\n",
    "def links_scrapy(url):\n",
    "    # Descargar el contenido de la página\n",
    "    page = requests.get(url)\n",
    "    # Crear un objeto BeautifulSoup a partir del contenido de la página\n",
    "    soup = BeautifulSoup(page.content, \"html.parser\")\n",
    "    # Encontrar el tag padre de las publicaciones que contiene su respectivo url\n",
    "    publication = soup.find_all(\"h4\", {\"class\":\"artifact-title\"})\n",
    "    # Extraer los url de los tags hijos respectivos\n",
    "    publication_soup = BeautifulSoup(str(publication), 'html.parser')\n",
    "    a_tags = publication_soup.find_all('a') # find all anchor elements\n",
    "    hrefs = [\"https://repositorio.unsaac.edu.pe\" + a_tag['href'] + \"?show=full\" for a_tag in a_tags]\n",
    "    return hrefs"
   ]
  },
  {
   "cell_type": "code",
   "execution_count": null,
   "id": "0a1025aa",
   "metadata": {},
   "outputs": [],
   "source": [
    "links_scrapy('https://repositorio.unsaac.edu.pe/browse?type=dateissued')"
   ]
  },
  {
   "cell_type": "code",
   "execution_count": null,
   "id": "b9fe380b",
   "metadata": {},
   "outputs": [],
   "source": [
    "### TENER CUIDADO CON AL EJECUCIOND E ESTE CODIGO SON 5769 TESIS Y MI LAPOTP NO AGUANTA\n",
    "\n",
    "# Extracción de todas las urls de la tabla de datos de todas las\n",
    "# publicaciones del repositorio\n",
    "# NOTA: no se recomienda ejecutar esta celda, ya que toma demasiado tiempo obtener una salida\n",
    "every_page = all_pages('https://repositorio.unsaac.edu.pe/browse?type=dateissued')\n",
    "publications_links = list(itertools.chain(*[links_scrapy(url) for url in every_page]))"
   ]
  },
  {
   "cell_type": "code",
   "execution_count": null,
   "id": "3633cc95",
   "metadata": {},
   "outputs": [],
   "source": [
    "# EJEMPLO DE EJECUCIÓN\n",
    "# En este ejemplo solo se considera las dos primeras páginas del repositorio\n",
    "every_page = all_pages('https://repositorio.unsaac.edu.pe/browse?type=dateissued')\n",
    "publications_links = list(itertools.chain(*[links_scrapy(url) for url in every_page[0:2]]))"
   ]
  },
  {
   "cell_type": "code",
   "execution_count": null,
   "id": "4266ef97",
   "metadata": {},
   "outputs": [],
   "source": [
    "publications_links"
   ]
  },
  {
   "cell_type": "code",
   "execution_count": null,
   "id": "44490c55",
   "metadata": {},
   "outputs": [],
   "source": []
  }
 ],
 "metadata": {
  "kernelspec": {
   "display_name": "Python 3 (ipykernel)",
   "language": "python",
   "name": "python3"
  },
  "language_info": {
   "codemirror_mode": {
    "name": "ipython",
    "version": 3
   },
   "file_extension": ".py",
   "mimetype": "text/x-python",
   "name": "python",
   "nbconvert_exporter": "python",
   "pygments_lexer": "ipython3",
   "version": "3.9.12"
  }
 },
 "nbformat": 4,
 "nbformat_minor": 5
}
