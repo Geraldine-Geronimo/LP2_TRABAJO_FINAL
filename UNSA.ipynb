{
 "cells": [
  {
   "attachments": {},
   "cell_type": "markdown",
   "metadata": {},
   "source": [
    "<h1 style=\"text-align: center\">\n",
    "<strong>WEB SCRAPING - REPOSITORIO DE UNSA</strong>\n",
    "</h1>\n",
    "\n",
    "**Nombre:** Oliverio Pichardo Diestra\n",
    "\n",
    "**Descripción del caso:**\n",
    "Se quiere obtener información estructurada de las tesis de pregrado y posgrado de Estadística, Informática o de carreras similares desarrolladas a nivel  nacional, a través de los repositorios institucionales de las universidades.\n",
    "\n",
    "**Especificaciones:**\n",
    "1. Debido a que se menciona carreras similares y no se especifica terminología alguna para ello, entonces se procederá a considerar lo establecido por INEI en su *\"Clasificador Nacional de Programas e Instituciones de Educación Superior Universitaria, Pedagógica, Tecnológica y Técnico Productiva, 2018\"* para la búsqueda de tales carreras similares en UNSA a nivel de pregrado y posgrado. En la tabla 1 y tabla 2, hallada en anexos, solo se puede visualizar las carreras profesionales (pregrado) que pertenecen a las categorías *Estadística* e *Informática*.\n",
    "\n",
    "2. El repositorio escogido es el de la Universidad Nacional de San Agustín de Arequipa (UNSA). \n",
    "El respectivo url de dicho repositorio es:  http://repositorio.unsa.edu.pe/browse?type=dateissued **(url-principal)**\n"
   ]
  },
  {
   "attachments": {},
   "cell_type": "markdown",
   "metadata": {},
   "source": [
    "# 1. WEB SCRAPING"
   ]
  },
  {
   "attachments": {},
   "cell_type": "markdown",
   "metadata": {},
   "source": [
    "## 1.1. Librerías, módulos o paquetes\n",
    "A fin de realizar la extracción de datos pertinentes, se emplearán las siguientes librerías, módulos o paquetes:"
   ]
  },
  {
   "cell_type": "code",
   "execution_count": 6,
   "metadata": {
    "tags": []
   },
   "outputs": [],
   "source": [
    "# Cargando librerías, módulos o paquetes pertinentes\n",
    "# %pip install requests\n",
    "# %pip install pandas\n",
    "# %pip install unidecode\n",
    "# %pip install pygame\n",
    "import requests\n",
    "from bs4 import BeautifulSoup\n",
    "import re\n",
    "import itertools\n",
    "import pandas as pd\n",
    "from unidecode import unidecode\n",
    "from pygame import mixer # alarma para cuando finalice de ejecutar un bloque de código\n",
    "import matplotlib.pyplot as plt"
   ]
  },
  {
   "attachments": {},
   "cell_type": "markdown",
   "metadata": {},
   "source": [
    "## 1.2. Funciones\n",
    "Se definirán dos funciones las cuales tendrán los siguientes objetivos respectivamente:\n",
    "1. Extraer todas las urls de la diversas páginas de la *url-principal* en las que se encuentran las tesis de pregrado y posgrado. Tales urls serán denominadas *url-página*.\n",
    "2. De cada *url-página*, extraer las urls que contienen la información específica de cada una las tesis. A estas les denominaremos *url-publicación*.\n",
    "\n",
    "A fin de comprender mejor lo mencionado, veamos la estructura jerárquica:\n",
    "1. Nivel 1 (url-principal): http://repositorio.unsa.edu.pe/browse?type=dateissued\n",
    "2. Nivel 2 (url-página): Es una subpágina de la url-principal que contiene en promedio 20 publicaciones. Hasta la fecha, en total, existen 682 subpáginas (url-página).\n",
    "3. Nivel 3 (url-publicación): Es una subpágina de una url-página que contiene la información de una determinada publicación. Hasta el momento, cada url-publicación contiene en promedio 28 descriptores de la respectiva publicación y, en total, existen 13644 url-publicación."
   ]
  },
  {
   "attachments": {},
   "cell_type": "markdown",
   "metadata": {},
   "source": [
    "### 1.2.1. Extracción de todas las url-página de la url-principal\n",
    "A fin de realizar la extracción de todas las url-página de la url-principal, se identificó un patrón de url que sirve para generar todas las url-página. A esa se le denominará *url-base*.\n",
    "A continuación, se define una función en la que:\n",
    "1. se identifica la url-base,\n",
    "2. se crea una lista de los caracteres que se deben reemplazar en el url-base para generar todas la url-página y\n",
    "3. se generan las url-página mediante la sustitución de unos caracteres específicos de la url-base por los elementos la lista generada en el punto 2."
   ]
  },
  {
   "cell_type": "code",
   "execution_count": 2,
   "metadata": {},
   "outputs": [],
   "source": [
    "# Creando una función que permite extraer todas las url-página\n",
    "def all_pages(url):\n",
    "    # Descargar el contenido de la url-principal\n",
    "    page = requests.get(url)\n",
    "    # Crear un objeto BeautifulSoup a partir del contenido de la página\n",
    "    soup = BeautifulSoup(page.content, \"html.parser\")\n",
    "    # Encontrar el tag a que contiene la url-base de las url-página\n",
    "    pages = soup.find_all(\"a\", {\"class\":\"next-page-link\"})\n",
    "    # Extraer el url-base de las url-página\n",
    "    pages_soup = BeautifulSoup(str(pages), 'html.parser')\n",
    "    a_tags = pages_soup.find_all('a') # find all anchor elements\n",
    "    base_href = [\"http://repositorio.unsa.edu.pe/\" + a_tag['href'] for a_tag in a_tags][0]\n",
    "    # Crear lista de límites inferiores de cada url-página\n",
    "    string_pages = soup.find_all(\"p\", {\"class\":\"pagination-info\"})\n",
    "    matches = re.findall(\"\\d+\", str(string_pages[0]))\n",
    "    lower_limit_max = (max([int(item) for item in matches]) // 20) * 20\n",
    "    lower_limits = list(range(0, lower_limit_max + 20, 20))\n",
    "    # Crear lista de las url-página de la url-principal\n",
    "    hrefs_all = [re.sub(r\"offset=\\d+\", \"offset=\" + str(pag), base_href) for pag in lower_limits]\n",
    "    return hrefs_all"
   ]
  },
  {
   "attachments": {},
   "cell_type": "markdown",
   "metadata": {},
   "source": [
    "### 1.2.2. Extracción de todas las url-publicación de una url-página\n",
    "A fin de realizar la extracción de todas las url-publicación de una url-página, se identificó el tag que contiene la expresión extra añadir en http://repositorio.unsa.edu.pe que permite acceder hasta la información de una determina publicación."
   ]
  },
  {
   "cell_type": "code",
   "execution_count": 3,
   "metadata": {},
   "outputs": [],
   "source": [
    "# Creando una función que permite extraer todas las url-publicación\n",
    "def links_scrappy(url):\n",
    "    # Descargar el contenido de la url-página\n",
    "    page = requests.get(url)\n",
    "    # Crear un objeto BeautifulSoup a partir del contenido de la página\n",
    "    soup = BeautifulSoup(page.content, \"html.parser\")\n",
    "    # Encontrar el tag padre de las publicaciones que contiene su respectivo url-publicación\n",
    "    publication = soup.find_all(\"div\", {\"class\":\"artifact-title\"})\n",
    "    # Extraer los url-publicación de los tags hijos respectivos\n",
    "    publication_soup = BeautifulSoup(str(publication), 'html.parser')\n",
    "    a_tags = publication_soup.find_all('a')\n",
    "    hrefs = [\"http://repositorio.unsa.edu.pe\" + a_tag['href'] + \"?show=full\" for a_tag in a_tags]\n",
    "    return hrefs"
   ]
  },
  {
   "attachments": {},
   "cell_type": "markdown",
   "metadata": {},
   "source": [
    "## 1.3. Aplicación: Extracción de las url-publicación del repositorio\n",
    "A continuación, se obtendrá todas las url-publicación del repositorio."
   ]
  },
  {
   "cell_type": "code",
   "execution_count": 4,
   "metadata": {},
   "outputs": [],
   "source": [
    "# NOTA: no se recomienda ejecutar esta celda, ya que toma algo de tiempo obtener un output (9 min aprox.)\n",
    "# Extraer todas las url-página de la url-principal\n",
    "## every_page: es una lista que contiene las url-página\n",
    "every_page = all_pages(\"http://repositorio.unsa.edu.pe/browse?type=dateissued\")\n",
    "# Extraer todas las url-publicación de cada una de las url-pagina\n",
    "## publications_links: es un a lista que contiene todas las url-publicación\n",
    "## publications_links se obtuvo de aplanar (flatten) la lista de listas de url-publicación de cada una de las url-página\n",
    "publications_links = list(itertools.chain(*[links_scrappy(url) for url in every_page]))"
   ]
  },
  {
   "attachments": {},
   "cell_type": "markdown",
   "metadata": {},
   "source": [
    "Veamos la ejecución de lo anterior para las dos primeras url-página."
   ]
  },
  {
   "cell_type": "code",
   "execution_count": null,
   "metadata": {},
   "outputs": [],
   "source": [
    "# # EJEMPLO DE EJECUCIÓN\n",
    "# # En este ejemplo solo se considera las dos primeras páginas del repositorio\n",
    "# every_page = all_pages(\"http://repositorio.unsa.edu.pe/browse?type=dateissued\")\n",
    "# publications_links = list(itertools.chain(*[links_scrappy(url) for url in every_page[0:2]]))"
   ]
  },
  {
   "attachments": {},
   "cell_type": "markdown",
   "metadata": {},
   "source": [
    "Veamos la ejecución de lo anterior para una url-página que contiene una tesis de ingeniería de sistemas."
   ]
  },
  {
   "cell_type": "code",
   "execution_count": null,
   "metadata": {},
   "outputs": [],
   "source": [
    "# publications_links = [\"http://repositorio.unsa.edu.pe/handle/UNSA/9843?show=full\"]"
   ]
  },
  {
   "attachments": {},
   "cell_type": "markdown",
   "metadata": {},
   "source": [
    "## 1.4. Extracción de la información solicitada\n",
    "A fin de optimizar la extracción de información, se procederá a especificar las carreras de las que se debe extraer la información, es decir, se va a evitar la extracción de toda la información, ya que en el repositorio existen 13644 publicaciones hasta la actualidad.  \n",
    "Debido a variaciones en gramática o en número (singular o plural) de algunas palabras, se realizará una normalización de cadenas de caracteres del descriptor `thesis.degree.discipline` con el objetivo de evitar pérdida de coincidencias en el filtrado de las carreras. La *normalización de cadenas de caracteres (string normalization)* hace referencia a borrar espacios en blanco innecesarios, eliminar tildes y cambiar todo a mayúscula o minúscula."
   ]
  },
  {
   "cell_type": "code",
   "execution_count": 5,
   "metadata": {},
   "outputs": [],
   "source": [
    "# Especificar carreras de pregrado\n",
    "## Se considera la palabra ciencia y ciencias a fin de no perder coincidencias por la letra \"s\"\n",
    "pregrado = [\"ingenieria de sistemas\", \"ciencia de la computacion\", \"ciencias de la computacion\", \"ingenieria de telecomunicaciones\"]\n",
    "# Especificar carreras de posgrado\n",
    "maestria = [\"maestria en ciencias de la computacion\", \n",
    "\"maestria en ciencias: ingenieria de sistemas con mencion en gerencia en tecnologias de la informacion\", \n",
    "\"maestria en ciencias: informatica con mencion en tecnologias de la informacion y comunicacion en gestion y educacion\"]\n",
    "doctorado = [\"doctorado en ciencias de la computacion\", \"doctorado en ciencia de la computacion\"]\n",
    "# todas las carreras de interés\n",
    "carreras = pregrado + maestria + doctorado\n",
    "#print(carreras)"
   ]
  },
  {
   "attachments": {},
   "cell_type": "markdown",
   "metadata": {},
   "source": [
    "Ahora, se procederá a extraer la información de cada una de las url-publicación."
   ]
  },
  {
   "cell_type": "code",
   "execution_count": 6,
   "metadata": {},
   "outputs": [],
   "source": [
    "# Encabezado para la extracción de la tabla\n",
    "headers = {\"User-agent\": 'Mozilla/5.0 (Windows NT 10.0; Win64; x64) AppleWebKit/537.36 (KHTML, like Gecko) Chrome/79.0.3945.130 Safari/537.36'}\n",
    "# Crear las listas donde se almacenará la información de las tesis\n",
    "anios, instituciones, titulos, autores, contribuidores, grados, resumenes = [], [], [], [], [], [], []\n",
    "# Añadir un contador que será de utilidad para colocar un dato vacío en el caso de que\n",
    "# la tesis no cuente con la información que se requiera\n",
    "cont = 0"
   ]
  },
  {
   "cell_type": "code",
   "execution_count": 7,
   "metadata": {},
   "outputs": [
    {
     "data": {
      "text/plain": [
       "<Channel at 0x1fa9922ef70>"
      ]
     },
     "execution_count": 7,
     "metadata": {},
     "output_type": "execute_result"
    }
   ],
   "source": [
    "for i in range(len(publications_links)):\n",
    "    # Extraer tabla de la url-página \n",
    "    respuesta = requests.get(publications_links[i], headers=headers)\n",
    "    # Encodificar la extraída y generar un output del tipo lista\n",
    "    tabla_tesis = pd.read_html(respuesta.content, encoding = 'utf8')\n",
    "    # Extraer el dataframe contenido en la lista generada anteriormente\n",
    "    tabla_1 = tabla_tesis[0]\n",
    "    m = range(len(tabla_1))\n",
    "    # Normalización textual del valor del descriptor \"thesis.degree.discipline\"\n",
    "    try:\n",
    "        grado = unidecode(tabla_1.loc[tabla_1[0].str.contains(\"thesis.degree.discipline\")].iloc[0][1].lower().strip())\n",
    "    except IndexError:\n",
    "        grado = \"NO ENCONTRADO\"\n",
    "    # Filtrar los grados de interés\n",
    "    if grado in carreras:\n",
    "        # Seleccionar el dato de la fecha de tesis de cada link y añadir en su respectiva lista\n",
    "        for j in m:\n",
    "            if tabla_1.iloc[j,0] == 'dc.date.issued':\n",
    "                año=tabla_1.iloc[j,1]\n",
    "                anios.append(año)\n",
    "                cont = cont + 1\n",
    "                break\n",
    "        if cont == 0:\n",
    "            anios.append(\" \")\n",
    "        else:\n",
    "            cont = 0\n",
    "        #Seleccionar el dato de la institución de cada link y añadir en su respectiva lista\n",
    "        for j in m:\n",
    "            if tabla_1.iloc[j,0] == 'dc.publisher':\n",
    "                institucion=tabla_1.iloc[j,1]\n",
    "                instituciones.append(institucion)\n",
    "                cont = cont + 1\n",
    "                break\n",
    "        if cont == 0:\n",
    "            instituciones.append(\" \")\n",
    "        else:\n",
    "            cont = 0\n",
    "        # seleccionar el dato del titulo de cada link y añadir en su respectiva lista\n",
    "        for j in m:        \n",
    "            if tabla_1.iloc[j,0] == 'dc.title':\n",
    "                titulo=tabla_1.iloc[j,1]\n",
    "                titulos.append(titulo)\n",
    "                cont = cont + 1\n",
    "                break\n",
    "        if cont == 0:\n",
    "                titulos.append(\" \")\n",
    "        else:\n",
    "            cont = 0\n",
    "        #seleccionar el dato del autor de tesis de cada link y añadir en su respectiva lista\n",
    "        for j in m:\n",
    "            if tabla_1.iloc[j,0] == 'dc.contributor.author':\n",
    "                autor=tabla_1.iloc[j,1]\n",
    "                autores.append(autor)\n",
    "                cont = cont + 1\n",
    "        # En caso exista más de un autor, sólo seleccionar el primero\n",
    "                break\n",
    "        if cont == 0:\n",
    "                autores.append(\" \")\n",
    "        else:\n",
    "            cont = 0 \n",
    "        #seleccionar el dato del grado de tesis de cada link y añadir en su respectiva lista\n",
    "        for j in m:\n",
    "            if tabla_1.iloc[j,0] == 'thesis.degree.name':\n",
    "                grado=tabla_1.iloc[j,1]\n",
    "                grados.append(grado)\n",
    "                cont = cont + 1\n",
    "                break\n",
    "        if cont == 0:\n",
    "                grados.append(\" \")\n",
    "        else:\n",
    "            cont = 0\n",
    "        #seleccionar el dato del asesor de tesis de cada link y añadir en su respectiva lista\n",
    "        for j in m:\n",
    "            if tabla_1.iloc[j,0] == 'dc.contributor.advisor':\n",
    "                contribuidor=tabla_1.iloc[j,1]\n",
    "                contribuidores.append(contribuidor)\n",
    "                cont = cont + 1\n",
    "        #En caso exista más de un asesor, sólo seleccionar el primero\n",
    "                break\n",
    "        if cont == 0:\n",
    "                contribuidores.append(\" \")\n",
    "        else:\n",
    "            cont = 0\n",
    "        #seleccionar el dato del resumen de tesis de cada link y añadir en su respectiva lista\n",
    "        for j in m:\n",
    "            if tabla_1.iloc[j,0] == 'dc.description.abstract':\n",
    "                resumen=tabla_1.iloc[j,1]\n",
    "                resumenes.append(resumen)\n",
    "                cont = cont + 1\n",
    "                break\n",
    "        if cont == 0:\n",
    "                resumenes.append(\" \")\n",
    "        else:\n",
    "            cont = 0\n",
    "\n",
    "mixer.init() \n",
    "sound=mixer.Sound(\"beach.wav\")\n",
    "sound.play()"
   ]
  },
  {
   "attachments": {},
   "cell_type": "markdown",
   "metadata": {},
   "source": [
    "Cabe mencionar que el bloque de código anterior terminó de ejecutarse en 84 minutos aproximadamente."
   ]
  },
  {
   "attachments": {},
   "cell_type": "markdown",
   "metadata": {},
   "source": [
    "## 1.5. Almacenamiento de la información solicitada\n",
    "Se procederá a almacenar la información de cada una de las url-publicación en un dataframe."
   ]
  },
  {
   "cell_type": "code",
   "execution_count": 8,
   "metadata": {},
   "outputs": [],
   "source": [
    "# Crear un data frame donde se almacenará todos los datos de las publicaciones\n",
    "df = pd.DataFrame()\n",
    "\n",
    "# Asignar cada lista a una determinada columna del dataframe\n",
    "df['instituciones'] = instituciones\n",
    "df['titulos'] = titulos\n",
    "df['autores'] = autores\n",
    "df['contribuidores'] = contribuidores\n",
    "df['resumenes'] = resumenes\n",
    "df['grados'] = grados\n",
    "df['anios'] = anios"
   ]
  },
  {
   "attachments": {},
   "cell_type": "markdown",
   "metadata": {},
   "source": [
    "## 1.6. Exportación de la información solicitada\n",
    "Se procederá a exportar la información solicitada en un archivo .csv"
   ]
  },
  {
   "cell_type": "code",
   "execution_count": 12,
   "metadata": {},
   "outputs": [],
   "source": [
    "df.to_csv('UNSA_repositorio.csv', encoding='utf-8', index=False)"
   ]
  },
  {
   "attachments": {},
   "cell_type": "markdown",
   "metadata": {},
   "source": [
    "# 2. ESTADÍSTICAS"
   ]
  },
  {
   "attachments": {},
   "cell_type": "markdown",
   "metadata": {},
   "source": [
    "A continuación, se realizará un reporte descriptivo breve sobre algunos campos extraídos en la sección anterior. Primero, se importará la data."
   ]
  },
  {
   "cell_type": "code",
   "execution_count": 23,
   "metadata": {},
   "outputs": [
    {
     "data": {
      "text/html": [
       "<div>\n",
       "<style scoped>\n",
       "    .dataframe tbody tr th:only-of-type {\n",
       "        vertical-align: middle;\n",
       "    }\n",
       "\n",
       "    .dataframe tbody tr th {\n",
       "        vertical-align: top;\n",
       "    }\n",
       "\n",
       "    .dataframe thead th {\n",
       "        text-align: right;\n",
       "    }\n",
       "</style>\n",
       "<table border=\"1\" class=\"dataframe\">\n",
       "  <thead>\n",
       "    <tr style=\"text-align: right;\">\n",
       "      <th></th>\n",
       "      <th>instituciones</th>\n",
       "      <th>titulos</th>\n",
       "      <th>autores</th>\n",
       "      <th>contribuidores</th>\n",
       "      <th>resumenes</th>\n",
       "      <th>grados</th>\n",
       "      <th>anios</th>\n",
       "    </tr>\n",
       "  </thead>\n",
       "  <tbody>\n",
       "    <tr>\n",
       "      <th>0</th>\n",
       "      <td>Universidad Nacional de San Agustín de Arequipa</td>\n",
       "      <td>Construcción automática y análisis de Modelos ...</td>\n",
       "      <td>Cornejo Aparicio, Víctor Manuel</td>\n",
       "      <td>Tejada Cárcamo, Javier</td>\n",
       "      <td>La presente tesis tiene por objetivo mejorar l...</td>\n",
       "      <td>Doctor en Ciencias de la Computación</td>\n",
       "      <td>2013</td>\n",
       "    </tr>\n",
       "    <tr>\n",
       "      <th>1</th>\n",
       "      <td>Universidad Nacional de San Agustín de Arequipa</td>\n",
       "      <td>Recuperación de imágenes por contenido basado ...</td>\n",
       "      <td>Velazco Paredes, Yuber Elmer</td>\n",
       "      <td>Patiño Escarcina, Raquel E.</td>\n",
       "      <td>En la actualidad la implementación de sistemas...</td>\n",
       "      <td>Doctor en Ciencias de la Computación</td>\n",
       "      <td>2014</td>\n",
       "    </tr>\n",
       "    <tr>\n",
       "      <th>2</th>\n",
       "      <td>Universidad Nacional de San Agustín de Arequipa</td>\n",
       "      <td>Caracterización basado en histograma multitext...</td>\n",
       "      <td>Flores Quispe, Roxana</td>\n",
       "      <td>Beltrán Castañón, Cesar A.</td>\n",
       "      <td>En la actualidad la implementación de sistemas...</td>\n",
       "      <td>Doctor en Ciencias de la Computación</td>\n",
       "      <td>2014</td>\n",
       "    </tr>\n",
       "    <tr>\n",
       "      <th>3</th>\n",
       "      <td>Universidad Nacional de San Agustín de Arequipa</td>\n",
       "      <td>Método de cálculo de precio de opción en commo...</td>\n",
       "      <td>Carrasco Bocangel, Julio César</td>\n",
       "      <td>Tupac Valdivia, Yván Jesús</td>\n",
       "      <td>En este trabajo se propone un método de cálcul...</td>\n",
       "      <td>Doctor en Ciencias de la Computación</td>\n",
       "      <td>2015</td>\n",
       "    </tr>\n",
       "    <tr>\n",
       "      <th>4</th>\n",
       "      <td>Universidad Nacional de San Agustín de Arequipa</td>\n",
       "      <td>Soluciones aproximadas para algoritmos escalab...</td>\n",
       "      <td>Ocsa Mamani, Alexander Víctor</td>\n",
       "      <td></td>\n",
       "      <td>La creciente disponibilidad de datos en difere...</td>\n",
       "      <td>Ingeniero de Sistemas</td>\n",
       "      <td>2015</td>\n",
       "    </tr>\n",
       "    <tr>\n",
       "      <th>...</th>\n",
       "      <td>...</td>\n",
       "      <td>...</td>\n",
       "      <td>...</td>\n",
       "      <td>...</td>\n",
       "      <td>...</td>\n",
       "      <td>...</td>\n",
       "      <td>...</td>\n",
       "    </tr>\n",
       "    <tr>\n",
       "      <th>83</th>\n",
       "      <td>Universidad Nacional de San Agustín de Arequipa</td>\n",
       "      <td>Modelo de pronóstico para la programación de d...</td>\n",
       "      <td>Romero Rodriguez, Wilber Benjamin</td>\n",
       "      <td>Huertas Niquen, Percy Oscar</td>\n",
       "      <td>Luego de una revisión sobre los costos y tiemp...</td>\n",
       "      <td>Ingeniero de Sistemas</td>\n",
       "      <td>2021</td>\n",
       "    </tr>\n",
       "    <tr>\n",
       "      <th>84</th>\n",
       "      <td>Universidad Nacional de San Agustín de Arequipa</td>\n",
       "      <td>Document classification method based on graphs...</td>\n",
       "      <td>Castillo Galdos, Lorena Xiomara</td>\n",
       "      <td>López del Alamo, Cristian José</td>\n",
       "      <td>La clasificación de documentos de texto es un ...</td>\n",
       "      <td>Licenciada en Ciencia de la Computación</td>\n",
       "      <td>2021</td>\n",
       "    </tr>\n",
       "    <tr>\n",
       "      <th>85</th>\n",
       "      <td>Universidad Nacional de San Agustín de Arequipa</td>\n",
       "      <td>Identificación biométrica única para habilitar...</td>\n",
       "      <td>Benavides Esquivel, Jaime</td>\n",
       "      <td>Huertas Niquen, Percy Oscar</td>\n",
       "      <td>El campo del reconocimiento facial ha experime...</td>\n",
       "      <td>Ingeniero de Sistemas</td>\n",
       "      <td>2022</td>\n",
       "    </tr>\n",
       "    <tr>\n",
       "      <th>86</th>\n",
       "      <td>Universidad Nacional de San Agustín de Arequipa</td>\n",
       "      <td>Hybrid model of quatum transfer learning to cl...</td>\n",
       "      <td>Soto Paredes, Christian Jaime</td>\n",
       "      <td>Sulla Torres, José Alfredo</td>\n",
       "      <td>Según estadísticas a la fecha, se estableció q...</td>\n",
       "      <td>Ingeniero de Sistemas</td>\n",
       "      <td>2022</td>\n",
       "    </tr>\n",
       "    <tr>\n",
       "      <th>87</th>\n",
       "      <td>Universidad Nacional de San Agustín de Arequipa</td>\n",
       "      <td>Reconocimiento de imagen por medio de disposit...</td>\n",
       "      <td>Contreras Alcazar, Iam Fabrizio</td>\n",
       "      <td>Cornejo Aparicio, Victor Manuel</td>\n",
       "      <td>La lesión del ligamento cruzado anterior es un...</td>\n",
       "      <td>Ingeniero de Sistemas</td>\n",
       "      <td>2022</td>\n",
       "    </tr>\n",
       "  </tbody>\n",
       "</table>\n",
       "<p>88 rows × 7 columns</p>\n",
       "</div>"
      ],
      "text/plain": [
       "                                      instituciones  \\\n",
       "0   Universidad Nacional de San Agustín de Arequipa   \n",
       "1   Universidad Nacional de San Agustín de Arequipa   \n",
       "2   Universidad Nacional de San Agustín de Arequipa   \n",
       "3   Universidad Nacional de San Agustín de Arequipa   \n",
       "4   Universidad Nacional de San Agustín de Arequipa   \n",
       "..                                              ...   \n",
       "83  Universidad Nacional de San Agustín de Arequipa   \n",
       "84  Universidad Nacional de San Agustín de Arequipa   \n",
       "85  Universidad Nacional de San Agustín de Arequipa   \n",
       "86  Universidad Nacional de San Agustín de Arequipa   \n",
       "87  Universidad Nacional de San Agustín de Arequipa   \n",
       "\n",
       "                                              titulos  \\\n",
       "0   Construcción automática y análisis de Modelos ...   \n",
       "1   Recuperación de imágenes por contenido basado ...   \n",
       "2   Caracterización basado en histograma multitext...   \n",
       "3   Método de cálculo de precio de opción en commo...   \n",
       "4   Soluciones aproximadas para algoritmos escalab...   \n",
       "..                                                ...   \n",
       "83  Modelo de pronóstico para la programación de d...   \n",
       "84  Document classification method based on graphs...   \n",
       "85  Identificación biométrica única para habilitar...   \n",
       "86  Hybrid model of quatum transfer learning to cl...   \n",
       "87  Reconocimiento de imagen por medio de disposit...   \n",
       "\n",
       "                              autores                   contribuidores  \\\n",
       "0     Cornejo Aparicio, Víctor Manuel           Tejada Cárcamo, Javier   \n",
       "1        Velazco Paredes, Yuber Elmer      Patiño Escarcina, Raquel E.   \n",
       "2               Flores Quispe, Roxana       Beltrán Castañón, Cesar A.   \n",
       "3      Carrasco Bocangel, Julio César       Tupac Valdivia, Yván Jesús   \n",
       "4       Ocsa Mamani, Alexander Víctor                                    \n",
       "..                                ...                              ...   \n",
       "83  Romero Rodriguez, Wilber Benjamin      Huertas Niquen, Percy Oscar   \n",
       "84    Castillo Galdos, Lorena Xiomara   López del Alamo, Cristian José   \n",
       "85          Benavides Esquivel, Jaime      Huertas Niquen, Percy Oscar   \n",
       "86      Soto Paredes, Christian Jaime       Sulla Torres, José Alfredo   \n",
       "87    Contreras Alcazar, Iam Fabrizio  Cornejo Aparicio, Victor Manuel   \n",
       "\n",
       "                                            resumenes  \\\n",
       "0   La presente tesis tiene por objetivo mejorar l...   \n",
       "1   En la actualidad la implementación de sistemas...   \n",
       "2   En la actualidad la implementación de sistemas...   \n",
       "3   En este trabajo se propone un método de cálcul...   \n",
       "4   La creciente disponibilidad de datos en difere...   \n",
       "..                                                ...   \n",
       "83  Luego de una revisión sobre los costos y tiemp...   \n",
       "84  La clasificación de documentos de texto es un ...   \n",
       "85  El campo del reconocimiento facial ha experime...   \n",
       "86  Según estadísticas a la fecha, se estableció q...   \n",
       "87  La lesión del ligamento cruzado anterior es un...   \n",
       "\n",
       "                                     grados  anios  \n",
       "0      Doctor en Ciencias de la Computación   2013  \n",
       "1      Doctor en Ciencias de la Computación   2014  \n",
       "2      Doctor en Ciencias de la Computación   2014  \n",
       "3      Doctor en Ciencias de la Computación   2015  \n",
       "4                     Ingeniero de Sistemas   2015  \n",
       "..                                      ...    ...  \n",
       "83                    Ingeniero de Sistemas   2021  \n",
       "84  Licenciada en Ciencia de la Computación   2021  \n",
       "85                    Ingeniero de Sistemas   2022  \n",
       "86                    Ingeniero de Sistemas   2022  \n",
       "87                    Ingeniero de Sistemas   2022  \n",
       "\n",
       "[88 rows x 7 columns]"
      ]
     },
     "execution_count": 23,
     "metadata": {},
     "output_type": "execute_result"
    }
   ],
   "source": [
    "data = pd.read_csv('UNSA_repositorio.csv')\n",
    "data"
   ]
  },
  {
   "attachments": {},
   "cell_type": "markdown",
   "metadata": {},
   "source": [
    "## 2.1. Tesis por año\n",
    "Ahora, veamos cuántas tesis se produjeron por año en UNSA de las carreras de interés."
   ]
  },
  {
   "cell_type": "code",
   "execution_count": 24,
   "metadata": {},
   "outputs": [
    {
     "data": {
      "text/html": [
       "<div>\n",
       "<style scoped>\n",
       "    .dataframe tbody tr th:only-of-type {\n",
       "        vertical-align: middle;\n",
       "    }\n",
       "\n",
       "    .dataframe tbody tr th {\n",
       "        vertical-align: top;\n",
       "    }\n",
       "\n",
       "    .dataframe thead th {\n",
       "        text-align: right;\n",
       "    }\n",
       "</style>\n",
       "<table border=\"1\" class=\"dataframe\">\n",
       "  <thead>\n",
       "    <tr style=\"text-align: right;\">\n",
       "      <th></th>\n",
       "      <th>anios</th>\n",
       "    </tr>\n",
       "  </thead>\n",
       "  <tbody>\n",
       "    <tr>\n",
       "      <th>2019</th>\n",
       "      <td>23</td>\n",
       "    </tr>\n",
       "    <tr>\n",
       "      <th>2018</th>\n",
       "      <td>19</td>\n",
       "    </tr>\n",
       "    <tr>\n",
       "      <th>2017</th>\n",
       "      <td>13</td>\n",
       "    </tr>\n",
       "    <tr>\n",
       "      <th>2021</th>\n",
       "      <td>12</td>\n",
       "    </tr>\n",
       "    <tr>\n",
       "      <th>2020</th>\n",
       "      <td>10</td>\n",
       "    </tr>\n",
       "    <tr>\n",
       "      <th>2016</th>\n",
       "      <td>3</td>\n",
       "    </tr>\n",
       "    <tr>\n",
       "      <th>2022</th>\n",
       "      <td>3</td>\n",
       "    </tr>\n",
       "    <tr>\n",
       "      <th>2014</th>\n",
       "      <td>2</td>\n",
       "    </tr>\n",
       "    <tr>\n",
       "      <th>2015</th>\n",
       "      <td>2</td>\n",
       "    </tr>\n",
       "    <tr>\n",
       "      <th>2013</th>\n",
       "      <td>1</td>\n",
       "    </tr>\n",
       "  </tbody>\n",
       "</table>\n",
       "</div>"
      ],
      "text/plain": [
       "      anios\n",
       "2019     23\n",
       "2018     19\n",
       "2017     13\n",
       "2021     12\n",
       "2020     10\n",
       "2016      3\n",
       "2022      3\n",
       "2014      2\n",
       "2015      2\n",
       "2013      1"
      ]
     },
     "execution_count": 24,
     "metadata": {},
     "output_type": "execute_result"
    }
   ],
   "source": [
    "produccion_anual = data['anios'].value_counts().to_frame()\n",
    "produccion_anual"
   ]
  },
  {
   "attachments": {},
   "cell_type": "markdown",
   "metadata": {},
   "source": [
    "Visualicemos la tabla mediante un gráfico de barras a fin de percibir en qué periodos hubo crecimiento o decrecimiento de producción."
   ]
  },
  {
   "cell_type": "code",
   "execution_count": 62,
   "metadata": {},
   "outputs": [
    {
     "data": {
      "text/plain": [
       "Text(0.5, 1.0, 'Figura 1: 2013-2022: Tesis producidas por año, UNSA')"
      ]
     },
     "execution_count": 62,
     "metadata": {},
     "output_type": "execute_result"
    },
    {
     "data": {
      "image/png": "[encoded data removed]",
      "text/plain": [
       "<Figure size 432x288 with 1 Axes>"
      ]
     },
     "metadata": {
      "needs_background": "light"
     },
     "output_type": "display_data"
    }
   ],
   "source": [
    "plt.bar(produccion_anual.index, list(produccion_anual[\"anios\"]))\n",
    "plt.xlabel('Año de publicación')\n",
    "plt.ylabel('Número de tesis')\n",
    "plt.title('Figura 1: 2013-2022: Tesis producidas por año, UNSA')"
   ]
  },
  {
   "attachments": {},
   "cell_type": "markdown",
   "metadata": {},
   "source": [
    "# 2.2. Tesis por grado\n",
    "Ahora, analicemos cuántas tesis se produjeron por grado en UNSA en el periodo 2013-2022. Debido a que se almacenó un campo que contiene el grado obtenido en su forma conjugada gramatical, se procedió a estandarizar dichos grados a fin de que no se contabilice el mismo grado de forma separada. Un ejemplo de lo mencionado es que aparecen las palabras *\"Ingeniero de Sistemas\"* e *\"Ingeniera de Sistemas\"*."
   ]
  },
  {
   "cell_type": "code",
   "execution_count": 50,
   "metadata": {},
   "outputs": [],
   "source": [
    "ing_sist_variacion = [\"Ingeniero de Sistemas\", \"Ingeniera de Sistemas\", \"Ingenieros de Sistemas\", \"Ingenieras de Sistemas\"]\n",
    "lic_ccomp_variacion = [\"Licenciado en Ciencia de la Computación\", \"Licenciada en Ciencia de la Computación\"]\n",
    "dr_ccomp_variacion = [\"Doctor en Ciencias de la Computación\", \"Doctora en Ciencias de la Computación\"]\n",
    "\n",
    "data.loc[data['grados'].isin(ing_sist_variacion), 'grados'] = 'Ingeniería de Sistemas'\n",
    "data.loc[data['grados'].isin(lic_ccomp_variacion), 'grados'] = 'Ciencias de la Computación'\n",
    "data.loc[data['grados'].isin(dr_ccomp_variacion), 'grados'] = 'Doctorado en Ciencias de la Computación'"
   ]
  },
  {
   "attachments": {},
   "cell_type": "markdown",
   "metadata": {},
   "source": [
    "Una vez estandarizado los grados, se elaborará un tabla con la frecuencias relativas porcentuales de las tesis por grado."
   ]
  },
  {
   "cell_type": "code",
   "execution_count": 51,
   "metadata": {},
   "outputs": [
    {
     "data": {
      "text/html": [
       "<div>\n",
       "<style scoped>\n",
       "    .dataframe tbody tr th:only-of-type {\n",
       "        vertical-align: middle;\n",
       "    }\n",
       "\n",
       "    .dataframe tbody tr th {\n",
       "        vertical-align: top;\n",
       "    }\n",
       "\n",
       "    .dataframe thead th {\n",
       "        text-align: right;\n",
       "    }\n",
       "</style>\n",
       "<table border=\"1\" class=\"dataframe\">\n",
       "  <thead>\n",
       "    <tr style=\"text-align: right;\">\n",
       "      <th></th>\n",
       "      <th>grados</th>\n",
       "    </tr>\n",
       "  </thead>\n",
       "  <tbody>\n",
       "    <tr>\n",
       "      <th>Ingeniería de Sistemas</th>\n",
       "      <td>69.318182</td>\n",
       "    </tr>\n",
       "    <tr>\n",
       "      <th>Doctorado en Ciencias de la Computación</th>\n",
       "      <td>17.045455</td>\n",
       "    </tr>\n",
       "    <tr>\n",
       "      <th>Ciencias de la Computación</th>\n",
       "      <td>12.500000</td>\n",
       "    </tr>\n",
       "    <tr>\n",
       "      <th>Maestro en Ciencias: Informática con mención en tecnologías de la información y comunicación en Gestión y Educación</th>\n",
       "      <td>1.136364</td>\n",
       "    </tr>\n",
       "  </tbody>\n",
       "</table>\n",
       "</div>"
      ],
      "text/plain": [
       "                                                       grados\n",
       "Ingeniería de Sistemas                              69.318182\n",
       "Doctorado en Ciencias de la Computación             17.045455\n",
       "Ciencias de la Computación                          12.500000\n",
       "Maestro en Ciencias: Informática con mención en...   1.136364"
      ]
     },
     "execution_count": 51,
     "metadata": {},
     "output_type": "execute_result"
    }
   ],
   "source": [
    "produccion_grado = data['grados'].value_counts(normalize=True).to_frame()\n",
    "produccion_grado[\"grados\"] = produccion_grado[\"grados\"] * 100\n",
    "produccion_grado"
   ]
  },
  {
   "attachments": {},
   "cell_type": "markdown",
   "metadata": {},
   "source": [
    "Visualicemos la tabla anterior mediante un gráfico circular."
   ]
  },
  {
   "cell_type": "code",
   "execution_count": 64,
   "metadata": {},
   "outputs": [
    {
     "data": {
      "image/png": "[encoded data removed]",
      "text/plain": [
       "<Figure size 432x288 with 1 Axes>"
      ]
     },
     "metadata": {},
     "output_type": "display_data"
    }
   ],
   "source": [
    "grados_plt = produccion_grado.index\n",
    "# Declarar el tamaño de cada 'rebanada' y en sumatoria todos deben dar al 100%\n",
    "sizes = list(produccion_grado[\"grados\"])\n",
    "# En este punto señalamos qué posición debe 'resaltarse' y el valor, si se coloca 0, se omite\n",
    "explode = (0.1, 0, 0, 0)  \n",
    "# Generar el marco de subploteos\n",
    "fig1, ax1 = plt.subplots()\n",
    "# Crear el gráfico, añadiendo los valores\n",
    "ax1.pie(sizes, explode=explode, labels=grados_plt, autopct='%1.1f%%', shadow=True, startangle=90)\n",
    "#señalamos la forma, en este caso 'equal' es para dar forma circular\n",
    "ax1.axis('equal')\n",
    "plt.title(\"Figura 2: 2013-2022: Tesis producidas según grado, UNSA\")\n",
    "# plt.legend()\n",
    "plt.savefig('grafica_pastel.png')\n",
    "plt.show()"
   ]
  },
  {
   "attachments": {},
   "cell_type": "markdown",
   "metadata": {},
   "source": [
    "# 3. Conclusiones\n",
    "1. Basado en la figura 1, se podría afirmar que posiblemente la pandemia por COVID-19 tuvo un impacto en la producción de tesis en el periodo 2020-2022, ya que se observa un descenso notable.\n",
    "2. Teniendo en cuenta la figura 2, se observa que la carrera de Ingeniería de Sistemas tiene la mayor de producción (69.3%) entre las carreras de interés."
   ]
  },
  {
   "attachments": {},
   "cell_type": "markdown",
   "metadata": {},
   "source": [
    "# 4. ANEXOS"
   ]
  },
  {
   "attachments": {},
   "cell_type": "markdown",
   "metadata": {},
   "source": [
    "**Tabla 1**  \n",
    "*Programas pertenecientes a la categoría Estadística a nivel de profesional (pregrado)*\n",
    "| CÓDIGO |                      PROGRAMA                     |\n",
    "|:------:|:-------------------------------------------------|\n",
    "| 542016 |                    Estadística                    |\n",
    "| 542026 |             Estadística e informática             |\n",
    "| 542036 |              Estadística informática              |\n",
    "| 542046 | Estadística para la gestión de servicios de salud |\n",
    "| 542056 |               Ingeniería estadística              |\n",
    "| 542066 |        Ingeniería estadística e informática       |\n",
    "| 542076 |         Ingeniería estadística informática        |\n",
    "| 542996 |           Otros programas en estadística          |\n",
    "\n",
    "*Nota: Adaptado del \"Clasificador Nacional de Programas e Instituciones de \n",
    "Educación Superior Universitaria, Pedagógica, Tecnológica y Técnico Productiva, 2018\" por INEI.*\n",
    "\n",
    "**Tabla 2**  \n",
    "*Programas pertenecientes a la categoría Informática a nivel de profesional (pregrado)*\n",
    "| CÓDIGO |                      PROGRAMA                     |\n",
    "|:------:|:-------------------------------------------------|\n",
    "| 611016 | Ciencias de la computación                  |\n",
    "| 611016 | Ciencia de la computación                   |\n",
    "| 611016 | Computación                                 |\n",
    "| 611026 | Computación científica                      |\n",
    "| 611036 | Computación e informática                   |\n",
    "| 611046 | Computación y matemática                    |\n",
    "| 611056 | Computación y sistemas                      |\n",
    "| 611066 | Ingeniería de computación y sistemas        |\n",
    "| 611076 | Ingeniería en computación e informática     |\n",
    "| 611996 | Otros programas en ciencias de computación  |\n",
    "| 612016 | Administración de redes y seguridad informática  |\n",
    "| 612026 | Ciencias de la información                       |\n",
    "| 612036 | Informática                                      |\n",
    "| 612046 | Ingeniería de informática y estadística          |\n",
    "| 612046 | Ingeniería informática y estadística             |\n",
    "| 612056 | Ingeniería de la información                     |\n",
    "| 612066 | Ingeniería de seguridad y auditoría informática  |\n",
    "| 612076 | Ingeniería de sistemas                           |\n",
    "| 612086 | Ingeniería de sistemas computacionales           |\n",
    "| 612086 | Sistemas computacionales                         |\n",
    "| 612096 | Ingeniería de sistemas con especialidad en ingeniería de software                               |\n",
    "| 612096 | Ingeniería de sistemas computacionales con mención en ingeniería de software                    |\n",
    "| 612106 | Ingeniería de sistemas con especialidad en sistemas de información                              |\n",
    "| 612116 | Ingeniería de sistemas con mención en negocios y tecnologías de la información                  |\n",
    "| 612116 | Ingeniería de sistemas computacionales con mención en negocios y tecnologías de la información  |\n",
    "| 612126 | Ingeniería de sistemas con mención en redes y seguridad informática                             |\n",
    "| 612126 | Ingeniería de sistemas computacionales con mención en redes y seguridad informática             |\n",
    "| 612136 | Ingeniería de sistemas de información                                                           |\n",
    "| 612146 | Ingeniería de sistemas de información y gestión                                                 |\n",
    "| 612156 | Ingeniería de sistemas e informática                                                            |\n",
    "| 612166 | Ingeniería de sistemas empresariales                               |\n",
    "| 612176 | Ingeniería de sistemas y computación                               |\n",
    "| 612176 | Ingeniería de sistemas y cómputo                                   |\n",
    "| 612186 | Ingeniería de sistemas y gestión de tecnologías de la información  |\n",
    "| 612186 | Ingeniería de sistemas y gestión de tecnologías de información     |\n",
    "| 612196 | Ingeniería de sistemas y seguridad informática                     |\n",
    "| 612206 | Ingeniería de sistemas y tecnológicas                              |\n",
    "| 612206 | Ingeniería de sistemas y tecnologías                               |\n",
    "| 612216 | Ingeniería de sistemas y telecomunicaciones                        |\n",
    "| 612226 | Ingeniería de sistemas y telemática                                |\n",
    "| 612236 | Ingeniería de software                                      |\n",
    "| 612246 | Ingeniería de software y seguridad informática              |\n",
    "| 612256 | Ingeniería de tecnologías de la información y sistemas      |\n",
    "| 612266 | Ingeniería en tecnologías de la información y comunicación  |\n",
    "| 612276 | Ingeniería en tecnologías y sistemas de información         |\n",
    "| 612276 | Ingeniería de sistemas y tecnologías de la información      |\n",
    "| 612286 | Ingeniería informática                                      |\n",
    "| 612296 | Ingeniería informática y de sistemas                        |\n",
    "| 612296 | Ingeniería en informática y sistemas                        |\n",
    "| 612296 | Ingeniería informática - computer sciencie                  |\n",
    "| 612296 | Ingeniería informática y de sistemas           |\n",
    "| 612296 | Ingeniería informática y sistemas              |\n",
    "| 612306 | Reparación de computadoras y redes             |\n",
    "| 612996 | Otros programas en sistemas y cómputo          |\n",
    "| 613016 | Ingeniería de la información y comunicaciones  |\n",
    "| 613026 | Ingeniería de las telecomunicaciones           |\n",
    "| 613036 | Ingeniería de las telecomunicaciones y redes   |\n",
    "| 613036 | Ingeniería de telecomunicaciones y redes       |\n",
    "| 613036 | Ingeniería en telecomunicaciones y redes       |\n",
    "| 613046 | Ingeniería de redes y comunicaciones           |\n",
    "| 613056 | Ingeniería de tecnologías de información y comunicación  |\n",
    "| 613066 | Ingeniería de tecnologías de información y sistemas      |\n",
    "| 613076 | Ingeniería de telecomunicaciones                         |\n",
    "| 613086 | Ingeniería de telecomunicaciones y telemática            |\n",
    "| 613086 | Ingeniería en telecomunicaciones y telemática            |\n",
    "| 613096 | Ingeniería en telecomunicaciones                         |\n",
    "| 613106 | Ingeniería en teleinformática                            |\n",
    "| 613106 | Ingeniería teleinformática                               |\n",
    "| 613116 | Técnica en ingeniería de telemática                      |\n",
    "| 613996 | Otros programas en telecomunicaciones                    |\n",
    "\n",
    "*Nota: Adaptado del \"Clasificador Nacional de Programas e Instituciones de \n",
    "Educación Superior Universitaria, Pedagógica, Tecnológica y Técnico Productiva, 2018\" por INEI.*"
   ]
  }
 ],
 "metadata": {
  "kernelspec": {
   "display_name": "base",
   "language": "python",
   "name": "python3"
  },
  "language_info": {
   "codemirror_mode": {
    "name": "ipython",
    "version": 3
   },
   "file_extension": ".py",
   "mimetype": "text/x-python",
   "name": "python",
   "nbconvert_exporter": "python",
   "pygments_lexer": "ipython3",
   "version": "3.9.12"
  },
  "orig_nbformat": 4,
  "vscode": {
   "interpreter": {
    "hash": "eec1c590e2f34e9a299b6d726f651d02256ffc6f526c72002153c3ef3807bbd4"
   }
  }
 },
 "nbformat": 4,
 "nbformat_minor": 2
}
