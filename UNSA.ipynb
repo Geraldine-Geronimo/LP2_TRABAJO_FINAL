{
 "cells": [
  {
   "attachments": {},
   "cell_type": "markdown",
   "metadata": {},
   "source": [
    "<h1 style=\"text-align: center\">\n",
    "<strong>WEB SCRAPING - REPOSITORIO DE UNSA</strong>\n",
    "</h1>\n",
    "\n",
    "**Nombre:** Oliverio Pichardo Diestra\n",
    "\n",
    "**Descripción del caso:**\n",
    "Se quiere obtener información estructurada de las tesis de pregrado y posgrado de Estadística, Informática o de carreras similares desarrolladas a nivel  nacional, a través de los repositorios institucionales de las universidades.\n",
    "\n",
    "**Especificaciones:**\n",
    "1. Debido a que se menciona carreras similares y no se especifica terminología alguna para ello, entonces se procederá a considerar lo establecido por INEI en su *\"Clasificador Nacional de Programas e Instituciones de Educación Superior Universitaria, Pedagógica, Tecnológica y Técnico Productiva, 2018\"* para la búsqueda de tales carreras similares en UNSA a nivel de pregrado y posgrado. En la tabla 1 y tabla 2, hallada en anexos, solo se puede visualizar las carreras profesionales (pregrado) que pertenecen a las categorías *Estadística* e *Informática*.\n",
    "\n",
    "2. El repositorio escogido es el de la Universidad Nacional de San Agustín de Arequipa (UNSA). \n",
    "El respectivo url de dicho repositorio es:  http://repositorio.unsa.edu.pe/browse?type=dateissued **(url-principal)**\n"
   ]
  },
  {
   "attachments": {},
   "cell_type": "markdown",
   "metadata": {},
   "source": [
    "# 1. WEB SCRAPING"
   ]
  },
  {
   "attachments": {},
   "cell_type": "markdown",
   "metadata": {},
   "source": [
    "## 1.1. Librerías, módulos o paquetes\n",
    "A fin de realizar la extracción de datos pertinentes, se emplearán las siguientes librerías, módulos o paquetes:"
   ]
  },
  {
   "cell_type": "code",
   "execution_count": 21,
   "metadata": {
    "tags": []
   },
   "outputs": [],
   "source": [
    "# Cargando librerías, módulos o paquetes pertinentes\n",
    "# %pip install requests\n",
    "# %pip install pandas\n",
    "# %pip install unidecode\n",
    "import requests\n",
    "from bs4 import BeautifulSoup\n",
    "import re\n",
    "import itertools\n",
    "import pandas as pd\n",
    "from unidecode import unidecode"
   ]
  },
  {
   "attachments": {},
   "cell_type": "markdown",
   "metadata": {},
   "source": [
    "## 1.2. Funciones\n",
    "Se definirán dos funciones las cuales tendrán los siguientes objetivos respectivamente:\n",
    "1. Extraer todas las urls de la diversas páginas de la *url-principal* en las que se encuentran las tesis de pregrado y posgrado. Tales urls serán denominadas *url-página*.\n",
    "2. De cada *url-página*, extraer las urls que contienen la información específica de cada una las tesis. A estas les denominaremos *url-publicación*.\n",
    "\n",
    "A fin de comprender mejor lo mencionado, veamos la estructura jerárquica:\n",
    "1. Nivel 1 (url-principal): http://repositorio.unsa.edu.pe/browse?type=dateissued\n",
    "2. Nivel 2 (url-página): Es una subpágina de la url-principal que contiene en promedio 20 publicaciones. Hasta la fecha, en total, existen 682 subpáginas (url-página).\n",
    "3. Nivel 3 (url-publicación): Es una subpágina de una url-página que contiene la información de una determinada publicación. Hasta el momento, cada url-publicación contiene en promedio 28 descriptores de la respectiva publicación y, en total, existen 13644 url-publicación."
   ]
  },
  {
   "attachments": {},
   "cell_type": "markdown",
   "metadata": {},
   "source": [
    "### 1.2.1. Extracción de todas las url-página de la url-principal\n",
    "A fin de realizar la extracción de todas las url-página de la url-principal, se identificó un patrón de url que sirve para generar todas las url-página. A esa se le denominará *url-base*.\n",
    "A continuación, se define una función en la que:\n",
    "1. se identifica la url-base,\n",
    "2. se crea una lista de los caracteres que se deben reemplazar en el url-base para generar todas la url-página y\n",
    "3. se generan las url-página mediante la sustitución de unos caracteres específicos de la url-base por los elementos la lista generada en el punto 2."
   ]
  },
  {
   "cell_type": "code",
   "execution_count": 22,
   "metadata": {},
   "outputs": [],
   "source": [
    "# Creando una función que permite extraer todas las url-página\n",
    "def all_pages(url):\n",
    "    # Descargar el contenido de la url-principal\n",
    "    page = requests.get(url)\n",
    "    # Crear un objeto BeautifulSoup a partir del contenido de la página\n",
    "    soup = BeautifulSoup(page.content, \"html.parser\")\n",
    "    # Encontrar el tag a que contiene la url-base de las url-página\n",
    "    pages = soup.find_all(\"a\", {\"class\":\"next-page-link\"})\n",
    "    # Extraer el url-base de las url-página\n",
    "    pages_soup = BeautifulSoup(str(pages), 'html.parser')\n",
    "    a_tags = pages_soup.find_all('a') # find all anchor elements\n",
    "    base_href = [\"http://repositorio.unsa.edu.pe/\" + a_tag['href'] for a_tag in a_tags][0]\n",
    "    # Crear lista de límites inferiores de cada url-página\n",
    "    string_pages = soup.find_all(\"p\", {\"class\":\"pagination-info\"})\n",
    "    matches = re.findall(\"\\d+\", str(string_pages[0]))\n",
    "    lower_limit_max = (max([int(item) for item in matches]) // 20) * 20\n",
    "    lower_limits = list(range(0, lower_limit_max + 20, 20))\n",
    "    # Crear lista de las url-página de la url-principal\n",
    "    hrefs_all = [re.sub(r\"offset=\\d+\", \"offset=\" + str(pag), base_href) for pag in lower_limits]\n",
    "    return hrefs_all"
   ]
  },
  {
   "attachments": {},
   "cell_type": "markdown",
   "metadata": {},
   "source": [
    "### 1.2.2. Extracción de todas las url-publicación de una url-página\n",
    "A fin de realizar la extracción de todas las url-publicación de una url-página, se identificó el tag que contiene la expresión extra añadir en http://repositorio.unsa.edu.pe que permite acceder hasta la información de una determina publicación."
   ]
  },
  {
   "cell_type": "code",
   "execution_count": 23,
   "metadata": {},
   "outputs": [],
   "source": [
    "# Creando una función que permite extraer todas las url-publicación\n",
    "def links_scrappy(url):\n",
    "    # Descargar el contenido de la url-página\n",
    "    page = requests.get(url)\n",
    "    # Crear un objeto BeautifulSoup a partir del contenido de la página\n",
    "    soup = BeautifulSoup(page.content, \"html.parser\")\n",
    "    # Encontrar el tag padre de las publicaciones que contiene su respectivo url-publicación\n",
    "    publication = soup.find_all(\"div\", {\"class\":\"artifact-title\"})\n",
    "    # Extraer los url-publicación de los tags hijos respectivos\n",
    "    publication_soup = BeautifulSoup(str(publication), 'html.parser')\n",
    "    a_tags = publication_soup.find_all('a')\n",
    "    hrefs = [\"http://repositorio.unsa.edu.pe\" + a_tag['href'] + \"?show=full\" for a_tag in a_tags]\n",
    "    return hrefs"
   ]
  },
  {
   "attachments": {},
   "cell_type": "markdown",
   "metadata": {},
   "source": [
    "## 1.3. Aplicación: Extracción de las url-publicación del repositorio\n",
    "A continuación, se obtendrá todas las url-publicación del repositorio."
   ]
  },
  {
   "cell_type": "code",
   "execution_count": 24,
   "metadata": {},
   "outputs": [],
   "source": [
    "# NOTA: no se recomienda ejecutar esta celda, ya que toma algo de tiempo obtener un output (9 min aprox.)\n",
    "# Extraer todas las url-página de la url-principal\n",
    "## every_page: es una lista que contiene las url-página\n",
    "every_page = all_pages(\"http://repositorio.unsa.edu.pe/browse?type=dateissued\")\n",
    "# Extraer todas las url-publicación de cada una de las url-pagina\n",
    "## publications_links: es un a lista que contiene todas las url-publicación\n",
    "## publications_links se obtuvo de aplanar (flatten) la lista de listas de url-publicación de cada una de las url-página\n",
    "publications_links = list(itertools.chain(*[links_scrappy(url) for url in every_page]))"
   ]
  },
  {
   "attachments": {},
   "cell_type": "markdown",
   "metadata": {},
   "source": [
    "Veamos la ejecución de lo anterior para las dos primeras url-página."
   ]
  },
  {
   "cell_type": "code",
   "execution_count": null,
   "metadata": {},
   "outputs": [],
   "source": [
    "# # EJEMPLO DE EJECUCIÓN\n",
    "# # En este ejemplo solo se considera las dos primeras páginas del repositorio\n",
    "# every_page = all_pages(\"http://repositorio.unsa.edu.pe/browse?type=dateissued\")\n",
    "# publications_links = list(itertools.chain(*[links_scrappy(url) for url in every_page[0:2]]))"
   ]
  },
  {
   "attachments": {},
   "cell_type": "markdown",
   "metadata": {},
   "source": [
    "Veamos la ejecución de lo anterior para una url-página que contiene una tesis de ingeniería de sistemas."
   ]
  },
  {
   "cell_type": "code",
   "execution_count": null,
   "metadata": {},
   "outputs": [],
   "source": [
    "# publications_links = [\"http://repositorio.unsa.edu.pe/handle/UNSA/9843?show=full\"]"
   ]
  },
  {
   "attachments": {},
   "cell_type": "markdown",
   "metadata": {},
   "source": [
    "## 1.4. Extracción de la información solicitada\n",
    "A fin de optimizar la extracción de información, se procederá a especificar las carreras de las que se debe extraer la información, es decir, se va a evitar la extracción de toda la información, ya que en el repositorio existen 13644 publicaciones hasta la actualidad.  \n",
    "Debido a variaciones en gramática o en número (singular o plural) de algunas palabras, se realizará una normalización de cadenas de caracteres del descriptor `thesis.degree.discipline` con el objetivo de evitar pérdida de coincidencias en el filtrado de las carreras. La *normalización de cadenas de caracteres (string normalization)* hace referencia a borrar espacios en blanco innecesarios, eliminar tildes y cambiar todo a mayúscula o minúscula."
   ]
  },
  {
   "cell_type": "code",
   "execution_count": 25,
   "metadata": {},
   "outputs": [],
   "source": [
    "# Especificar carreras de pregrado\n",
    "## Se considera la palabra ciencia y ciencias a fin de no perder coincidencias por la letra \"s\"\n",
    "pregrado = [\"ingenieria de sistemas\", \"ciencia de la computacion\", \"ciencias de la computacion\", \"ingenieria de telecomunicaciones\"]\n",
    "# Especificar carreras de posgrado\n",
    "maestria = [\"maestria en ciencias de la computacion\", \n",
    "\"maestria en ciencias: ingenieria de sistemas con mencion en gerencia en tecnologias de la informacion\", \n",
    "\"maestria en ciencias: informatica con mencion en tecnologias de la informacion y comunicacion en gestion y educacion\"]\n",
    "doctorado = [\"doctorado en ciencias de la computacion\", \"doctorado en ciencia de la computacion\"]\n",
    "# todas las carreras de interés\n",
    "carreras = pregrado + maestria + doctorado\n",
    "#print(carreras)"
   ]
  },
  {
   "attachments": {},
   "cell_type": "markdown",
   "metadata": {},
   "source": [
    "Ahora, se procederá a extraer la información de cada una de las url-publicación."
   ]
  },
  {
   "cell_type": "code",
   "execution_count": 26,
   "metadata": {},
   "outputs": [],
   "source": [
    "# Encabezado para la extracción de la tabla\n",
    "headers = {\"User-agent\": 'Mozilla/5.0 (Windows NT 10.0; Win64; x64) AppleWebKit/537.36 (KHTML, like Gecko) Chrome/79.0.3945.130 Safari/537.36'}\n",
    "# Crear las listas donde se almacenará la información de las tesis\n",
    "anios, instituciones, titulos, autores, contribuidores, grados, resumenes = [], [], [], [], [], [], []\n",
    "# Añadir un contador que será de utilidad para colocar un dato vacío en el caso de que\n",
    "# la tesis no cuente con la información que se requiera\n",
    "cont = 0"
   ]
  },
  {
   "cell_type": "code",
   "execution_count": null,
   "metadata": {},
   "outputs": [],
   "source": [
    "# TESTEO\n",
    "# respuesta = requests.get(publications_links[0], headers=headers)\n",
    "# # Encodificar la extraída y generar un output del tipo lista\n",
    "# tabla_tesis = pd.read_html(respuesta.content, encoding = 'utf8')\n",
    "# # Extraer el dataframe contenido en la lista generada anteriormente\n",
    "# tabla_1 = tabla_tesis[0]\n",
    "# try:\n",
    "#     grado = unidecode(tabla_1.loc[tabla_1[0].str.contains(\"thesis\")].iloc[0][1].lower().strip())\n",
    "#     print(grado)\n",
    "# except IndexError:\n",
    "#     print(\"ERROR\")"
   ]
  },
  {
   "cell_type": "code",
   "execution_count": 27,
   "metadata": {},
   "outputs": [],
   "source": [
    "for i in range(len(publications_links)):\n",
    "    # Extraer tabla de la url-página \n",
    "    respuesta = requests.get(publications_links[i], headers=headers)\n",
    "    # Encodificar la extraída y generar un output del tipo lista\n",
    "    tabla_tesis = pd.read_html(respuesta.content, encoding = 'utf8')\n",
    "    # Extraer el dataframe contenido en la lista generada anteriormente\n",
    "    tabla_1 = tabla_tesis[0]\n",
    "    m = range(len(tabla_1))\n",
    "    # Normalización textual del valor del descriptor \"thesis.degree.discipline\"\n",
    "    try:\n",
    "        grado = unidecode(tabla_1.loc[tabla_1[0].str.contains(\"thesis.degree.discipline\")].iloc[0][1].lower().strip())\n",
    "    except IndexError:\n",
    "        grado = \"NO ENCONTRADO\"\n",
    "    # Filtrar los grados de interés\n",
    "    if grado in carreras:\n",
    "        # Seleccionar el dato de la fecha de tesis de cada link y añadir en su respectiva lista\n",
    "        for j in m:\n",
    "            if tabla_1.iloc[j,0] == 'dc.date.issued':\n",
    "                año=tabla_1.iloc[j,1]\n",
    "                anios.append(año)\n",
    "                cont = cont + 1\n",
    "                break\n",
    "        if cont == 0:\n",
    "            anios.append(\" \")\n",
    "        else:\n",
    "            cont = 0\n",
    "        #Seleccionar el dato de la institución de cada link y añadir en su respectiva lista\n",
    "        for j in m:\n",
    "            if tabla_1.iloc[j,0] == 'dc.publisher':\n",
    "                institucion=tabla_1.iloc[j,1]\n",
    "                instituciones.append(institucion)\n",
    "                cont = cont + 1\n",
    "                break\n",
    "        if cont == 0:\n",
    "            instituciones.append(\" \")\n",
    "        else:\n",
    "            cont = 0\n",
    "        # seleccionar el dato del titulo de cada link y añadir en su respectiva lista\n",
    "        for j in m:        \n",
    "            if tabla_1.iloc[j,0] == 'dc.title':\n",
    "                titulo=tabla_1.iloc[j,1]\n",
    "                titulos.append(titulo)\n",
    "                cont = cont + 1\n",
    "                break\n",
    "        if cont == 0:\n",
    "                titulos.append(\" \")\n",
    "        else:\n",
    "            cont = 0\n",
    "        #seleccionar el dato del autor de tesis de cada link y añadir en su respectiva lista\n",
    "        for j in m:\n",
    "            if tabla_1.iloc[j,0] == 'dc.contributor.author':\n",
    "                autor=tabla_1.iloc[j,1]\n",
    "                autores.append(autor)\n",
    "                cont = cont + 1\n",
    "        # En caso exista más de un autor, sólo seleccionar el primero\n",
    "                break\n",
    "        if cont == 0:\n",
    "                autores.append(\" \")\n",
    "        else:\n",
    "            cont = 0 \n",
    "        #seleccionar el dato del grado de tesis de cada link y añadir en su respectiva lista\n",
    "        for j in m:\n",
    "            if tabla_1.iloc[j,0] == 'thesis.degree.name':\n",
    "                grado=tabla_1.iloc[j,1]\n",
    "                grados.append(grado)\n",
    "                cont = cont + 1\n",
    "                break\n",
    "        if cont == 0:\n",
    "                grados.append(\" \")\n",
    "        else:\n",
    "            cont = 0\n",
    "        #seleccionar el dato del asesor de tesis de cada link y añadir en su respectiva lista\n",
    "        for j in m:\n",
    "            if tabla_1.iloc[j,0] == 'dc.contributor.advisor':\n",
    "                contribuidor=tabla_1.iloc[j,1]\n",
    "                contribuidores.append(contribuidor)\n",
    "                cont = cont + 1\n",
    "        #En caso exista más de un asesor, sólo seleccionar el primero\n",
    "                break\n",
    "        if cont == 0:\n",
    "                contribuidores.append(\" \")\n",
    "        else:\n",
    "            cont = 0\n",
    "        #seleccionar el dato del resumen de tesis de cada link y añadir en su respectiva lista\n",
    "        for j in m:\n",
    "            if tabla_1.iloc[j,0] == 'dc.description.abstract':\n",
    "                resumen=tabla_1.iloc[j,1]\n",
    "                resumenes.append(resumen)\n",
    "                cont = cont + 1\n",
    "                break\n",
    "        if cont == 0:\n",
    "                resumenes.append(\" \")\n",
    "        else:\n",
    "            cont = 0"
   ]
  },
  {
   "attachments": {},
   "cell_type": "markdown",
   "metadata": {},
   "source": [
    "Cabe mencionar que el bloque de código anterior terminó de ejecutarse en 63 minutos aproximadamente."
   ]
  },
  {
   "attachments": {},
   "cell_type": "markdown",
   "metadata": {},
   "source": [
    "## 1.5. Almacenamiento de la información solicitada\n",
    "Se procederá a almacenar la información de cada una de las url-publicación en un dataframe."
   ]
  },
  {
   "cell_type": "code",
   "execution_count": 28,
   "metadata": {},
   "outputs": [],
   "source": [
    "# Crear un data frame donde se almacenará todos los datos de las publicaciones\n",
    "df = pd.DataFrame()\n",
    "\n",
    "# Asignar cada lista a una determinada columna del dataframe\n",
    "df['instituciones'] = instituciones\n",
    "df['titulos'] = titulos\n",
    "df['autores'] = autores\n",
    "df['contribuidores'] = contribuidores\n",
    "df['resumenes'] = resumenes\n",
    "df['grados'] = grados\n",
    "df['anios'] = anios"
   ]
  },
  {
   "cell_type": "code",
   "execution_count": 32,
   "metadata": {},
   "outputs": [
    {
     "data": {
      "text/plain": [
       "[0, 1]"
      ]
     },
     "execution_count": 32,
     "metadata": {},
     "output_type": "execute_result"
    }
   ],
   "source": [
    "list(range(2))"
   ]
  },
  {
   "cell_type": "code",
   "execution_count": 41,
   "metadata": {},
   "outputs": [
    {
     "name": "stdout",
     "output_type": "stream",
     "text": [
      "i=  0\n",
      "ok\n",
      ":)\n",
      "j=  0\n",
      "i=  1\n",
      "ok\n",
      ":)\n",
      "j=  0\n",
      "i=  2\n",
      "ok\n",
      ":)\n",
      "j=  0\n"
     ]
    }
   ],
   "source": [
    "for i in range(3):\n",
    "    print(\"i= \",i)\n",
    "    print(\"ok\")\n",
    "    for j in range(2):\n",
    "        print(\":)\")\n",
    "        print(\"j= \",j)\n",
    "        if j == 0:\n",
    "            break"
   ]
  },
  {
   "attachments": {},
   "cell_type": "markdown",
   "metadata": {},
   "source": [
    "## 1.6. Exportación de la información solicitada\n",
    "Se procederá a exportar la información solicitada en un archivo .csv"
   ]
  },
  {
   "cell_type": "code",
   "execution_count": null,
   "metadata": {},
   "outputs": [],
   "source": [
    "df.to_csv('UNSA_repositorio.csv', encoding='utf-8', index=False)"
   ]
  },
  {
   "attachments": {},
   "cell_type": "markdown",
   "metadata": {},
   "source": [
    "# 2. ESTADÍSTICAS"
   ]
  },
  {
   "attachments": {},
   "cell_type": "markdown",
   "metadata": {},
   "source": [
    "Texto"
   ]
  },
  {
   "cell_type": "code",
   "execution_count": null,
   "metadata": {},
   "outputs": [],
   "source": []
  },
  {
   "attachments": {},
   "cell_type": "markdown",
   "metadata": {},
   "source": [
    "# 3. ANEXOS"
   ]
  },
  {
   "attachments": {},
   "cell_type": "markdown",
   "metadata": {},
   "source": [
    "**Tabla 1**  \n",
    "*Programas pertenecientes a la categoría Estadística a nivel de profesional (pregrado)*\n",
    "| CÓDIGO |                      PROGRAMA                     |\n",
    "|:------:|:-------------------------------------------------|\n",
    "| 542016 |                    Estadística                    |\n",
    "| 542026 |             Estadística e informática             |\n",
    "| 542036 |              Estadística informática              |\n",
    "| 542046 | Estadística para la gestión de servicios de salud |\n",
    "| 542056 |               Ingeniería estadística              |\n",
    "| 542066 |        Ingeniería estadística e informática       |\n",
    "| 542076 |         Ingeniería estadística informática        |\n",
    "| 542996 |           Otros programas en estadística          |\n",
    "\n",
    "*Nota: Adaptado del \"Clasificador Nacional de Programas e Instituciones de \n",
    "Educación Superior Universitaria, Pedagógica, Tecnológica y Técnico Productiva, 2018\" por INEI.*\n",
    "\n",
    "**Tabla 2**  \n",
    "*Programas pertenecientes a la categoría Informática a nivel de profesional (pregrado)*\n",
    "| CÓDIGO |                      PROGRAMA                     |\n",
    "|:------:|:-------------------------------------------------|\n",
    "| 611016 | Ciencias de la computación                  |\n",
    "| 611016 | Ciencia de la computación                   |\n",
    "| 611016 | Computación                                 |\n",
    "| 611026 | Computación científica                      |\n",
    "| 611036 | Computación e informática                   |\n",
    "| 611046 | Computación y matemática                    |\n",
    "| 611056 | Computación y sistemas                      |\n",
    "| 611066 | Ingeniería de computación y sistemas        |\n",
    "| 611076 | Ingeniería en computación e informática     |\n",
    "| 611996 | Otros programas en ciencias de computación  |\n",
    "| 612016 | Administración de redes y seguridad informática  |\n",
    "| 612026 | Ciencias de la información                       |\n",
    "| 612036 | Informática                                      |\n",
    "| 612046 | Ingeniería de informática y estadística          |\n",
    "| 612046 | Ingeniería informática y estadística             |\n",
    "| 612056 | Ingeniería de la información                     |\n",
    "| 612066 | Ingeniería de seguridad y auditoría informática  |\n",
    "| 612076 | Ingeniería de sistemas                           |\n",
    "| 612086 | Ingeniería de sistemas computacionales           |\n",
    "| 612086 | Sistemas computacionales                         |\n",
    "| 612096 | Ingeniería de sistemas con especialidad en ingeniería de software                               |\n",
    "| 612096 | Ingeniería de sistemas computacionales con mención en ingeniería de software                    |\n",
    "| 612106 | Ingeniería de sistemas con especialidad en sistemas de información                              |\n",
    "| 612116 | Ingeniería de sistemas con mención en negocios y tecnologías de la información                  |\n",
    "| 612116 | Ingeniería de sistemas computacionales con mención en negocios y tecnologías de la información  |\n",
    "| 612126 | Ingeniería de sistemas con mención en redes y seguridad informática                             |\n",
    "| 612126 | Ingeniería de sistemas computacionales con mención en redes y seguridad informática             |\n",
    "| 612136 | Ingeniería de sistemas de información                                                           |\n",
    "| 612146 | Ingeniería de sistemas de información y gestión                                                 |\n",
    "| 612156 | Ingeniería de sistemas e informática                                                            |\n",
    "| 612166 | Ingeniería de sistemas empresariales                               |\n",
    "| 612176 | Ingeniería de sistemas y computación                               |\n",
    "| 612176 | Ingeniería de sistemas y cómputo                                   |\n",
    "| 612186 | Ingeniería de sistemas y gestión de tecnologías de la información  |\n",
    "| 612186 | Ingeniería de sistemas y gestión de tecnologías de información     |\n",
    "| 612196 | Ingeniería de sistemas y seguridad informática                     |\n",
    "| 612206 | Ingeniería de sistemas y tecnológicas                              |\n",
    "| 612206 | Ingeniería de sistemas y tecnologías                               |\n",
    "| 612216 | Ingeniería de sistemas y telecomunicaciones                        |\n",
    "| 612226 | Ingeniería de sistemas y telemática                                |\n",
    "| 612236 | Ingeniería de software                                      |\n",
    "| 612246 | Ingeniería de software y seguridad informática              |\n",
    "| 612256 | Ingeniería de tecnologías de la información y sistemas      |\n",
    "| 612266 | Ingeniería en tecnologías de la información y comunicación  |\n",
    "| 612276 | Ingeniería en tecnologías y sistemas de información         |\n",
    "| 612276 | Ingeniería de sistemas y tecnologías de la información      |\n",
    "| 612286 | Ingeniería informática                                      |\n",
    "| 612296 | Ingeniería informática y de sistemas                        |\n",
    "| 612296 | Ingeniería en informática y sistemas                        |\n",
    "| 612296 | Ingeniería informática - computer sciencie                  |\n",
    "| 612296 | Ingeniería informática y de sistemas           |\n",
    "| 612296 | Ingeniería informática y sistemas              |\n",
    "| 612306 | Reparación de computadoras y redes             |\n",
    "| 612996 | Otros programas en sistemas y cómputo          |\n",
    "| 613016 | Ingeniería de la información y comunicaciones  |\n",
    "| 613026 | Ingeniería de las telecomunicaciones           |\n",
    "| 613036 | Ingeniería de las telecomunicaciones y redes   |\n",
    "| 613036 | Ingeniería de telecomunicaciones y redes       |\n",
    "| 613036 | Ingeniería en telecomunicaciones y redes       |\n",
    "| 613046 | Ingeniería de redes y comunicaciones           |\n",
    "| 613056 | Ingeniería de tecnologías de información y comunicación  |\n",
    "| 613066 | Ingeniería de tecnologías de información y sistemas      |\n",
    "| 613076 | Ingeniería de telecomunicaciones                         |\n",
    "| 613086 | Ingeniería de telecomunicaciones y telemática            |\n",
    "| 613086 | Ingeniería en telecomunicaciones y telemática            |\n",
    "| 613096 | Ingeniería en telecomunicaciones                         |\n",
    "| 613106 | Ingeniería en teleinformática                            |\n",
    "| 613106 | Ingeniería teleinformática                               |\n",
    "| 613116 | Técnica en ingeniería de telemática                      |\n",
    "| 613996 | Otros programas en telecomunicaciones                    |\n",
    "\n",
    "*Nota: Adaptado del \"Clasificador Nacional de Programas e Instituciones de \n",
    "Educación Superior Universitaria, Pedagógica, Tecnológica y Técnico Productiva, 2018\" por INEI.*"
   ]
  }
 ],
 "metadata": {
  "kernelspec": {
   "display_name": "Python 3",
   "language": "python",
   "name": "python3"
  },
  "language_info": {
   "codemirror_mode": {
    "name": "ipython",
    "version": 3
   },
   "file_extension": ".py",
   "mimetype": "text/x-python",
   "name": "python",
   "nbconvert_exporter": "python",
   "pygments_lexer": "ipython3",
   "version": "3.10.4"
  },
  "orig_nbformat": 4,
  "vscode": {
   "interpreter": {
    "hash": "d5df2bbc9074bc7b86f029b01b4b6c677caf98f9d22ebc6f989a43f921d559b4"
   }
  }
 },
 "nbformat": 4,
 "nbformat_minor": 2
}
