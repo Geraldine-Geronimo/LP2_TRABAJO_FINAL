{
 "cells": [
  {
   "attachments": {},
   "cell_type": "markdown",
   "metadata": {},
   "source": [
    "<h1 style=\"text-align: center\">\n",
    "<strong>WEB SCRAPING - REPOSITORIO DE UNSA</strong>\n",
    "</h1>\n",
    "\n",
    "**Nombre:** Oliverio Pichardo Diestra\n",
    "\n",
    "**Descripción del caso:**\n",
    "Se quiere obtener información estructurada de las tesis de pregrado y posgrado de Estadística \n",
    "Informática o de carreras similares desarrolladas a nivel  nacional, a través de los repositorios \n",
    "institucionales de las universidades.\n",
    "\n",
    "**Especificaciones:**\n",
    "1. Debido a que se menciona carreras similares y no se especifica terminología alguna para ello, \n",
    "entonces se procede a considerar lo establecido por INEI en su *Clasificador Nacional de Programas e Instituciones de \n",
    "Educación Superior Universitaria, Pedagógica, Tecnológica y Técnico Productiva, 2018*. (Ver Tabla 1)\n",
    "\n",
    "    **Tabla 1**  \n",
    "    *Programas similares a Estadística a nivel de profesional (pregrado)*\n",
    "    | CÓDIGO |                      PROGRAMA                     |\n",
    "    |:------:|:-------------------------------------------------:|\n",
    "    | 542016 |                    Estadística                    |\n",
    "    | 542026 |             Estadística e informática             |\n",
    "    | 542036 |              Estadística informática              |\n",
    "    | 542046 | Estadística para la gestión de servicios de salud |\n",
    "    | 542056 |               Ingeniería estadística              |\n",
    "    | 542066 |        Ingeniería estadística e informática       |\n",
    "    | 542076 |         Ingeniería estadística informática        |\n",
    "    | 542996 |           Otros programas en estadística          |\n",
    "\n",
    "    *Nota: Adaptado de \"Clasificador Nacional de Programas e Instituciones de \n",
    "    Educación Superior Universitaria, Pedagógica, Tecnológica y Técnico Productiva, 2018\" por INEI.*\n",
    "\n",
    "2. El repositorio escogido es el de la Universidad Nacional de San Agustín de Arequipa (UNSA). \n",
    "El respectivo url de dicho repositorio es:  http://repositorio.unsa.edu.pe/browse?type=dateissued\n"
   ]
  },
  {
   "attachments": {},
   "cell_type": "markdown",
   "metadata": {},
   "source": [
    "# 1. Web Scraping"
   ]
  },
  {
   "attachments": {},
   "cell_type": "markdown",
   "metadata": {},
   "source": [
    "## 1.1. Librerías, módulos o paquetes\n",
    "A fin de realizar la extracción de datos pertinentes, se emplearán las siguientes librerías, módulos o paquetes:"
   ]
  },
  {
   "cell_type": "code",
   "execution_count": 1,
   "metadata": {},
   "outputs": [],
   "source": [
    "# Cargando librerías, módulos o paquetes pertinentes\n",
    "# %pip install requests\n",
    "import requests\n",
    "from bs4 import BeautifulSoup\n",
    "import re\n",
    "import itertools"
   ]
  },
  {
   "cell_type": "code",
   "execution_count": null,
   "metadata": {},
   "outputs": [],
   "source": []
  },
  {
   "cell_type": "code",
   "execution_count": null,
   "metadata": {},
   "outputs": [],
   "source": []
  }
 ],
 "metadata": {
  "kernelspec": {
   "display_name": "Python 3",
   "language": "python",
   "name": "python3"
  },
  "language_info": {
   "codemirror_mode": {
    "name": "ipython",
    "version": 3
   },
   "file_extension": ".py",
   "mimetype": "text/x-python",
   "name": "python",
   "nbconvert_exporter": "python",
   "pygments_lexer": "ipython3",
   "version": "3.10.4"
  },
  "orig_nbformat": 4,
  "vscode": {
   "interpreter": {
    "hash": "d5df2bbc9074bc7b86f029b01b4b6c677caf98f9d22ebc6f989a43f921d559b4"
   }
  }
 },
 "nbformat": 4,
 "nbformat_minor": 2
}
