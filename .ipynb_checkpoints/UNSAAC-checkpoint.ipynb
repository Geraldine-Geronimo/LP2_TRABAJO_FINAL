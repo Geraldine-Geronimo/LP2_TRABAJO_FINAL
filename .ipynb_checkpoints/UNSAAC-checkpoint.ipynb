{
 "cells": [
  {
   "cell_type": "markdown",
   "id": "f807b6d9",
   "metadata": {},
   "source": [
    "**REPOSITORIO UNSAAC**\n",
    "\n",
    "- Alex Jesus Flores Taco   (20210833)\n",
    "\n"
   ]
  },
  {
   "cell_type": "code",
   "execution_count": 1,
   "id": "6aa534a8",
   "metadata": {},
   "outputs": [],
   "source": [
    "# Cargando librerías o módulos pertinentes\n",
    "import requests\n",
    "from bs4 import BeautifulSoup\n",
    "import re\n",
    "import itertools\n",
    "import pandas as pd"
   ]
  },
  {
   "cell_type": "code",
   "execution_count": null,
   "id": "249fd853",
   "metadata": {},
   "outputs": [],
   "source": []
  },
  {
   "cell_type": "code",
   "execution_count": 2,
   "id": "6274b6f2",
   "metadata": {},
   "outputs": [],
   "source": [
    "# Creando una función que permite extraer todas las urls de la tabla de datos de las\n",
    "# publicaciones de una determina página\n",
    "def links_scrapy(url):\n",
    "    # Descargar el contenido de la página\n",
    "    page = requests.get(url)\n",
    "    # Crear un objeto BeautifulSoup a partir del contenido de la página\n",
    "    soup = BeautifulSoup(page.content, \"html.parser\")\n",
    "    # Encontrar el tag padre de las publicaciones que contiene su respectivo url\n",
    "    publication = soup.find_all(\"h4\", {\"class\":\"artifact-title\"})\n",
    "    # Extraer los url de los tags hijos respectivos\n",
    "    publication_soup = BeautifulSoup(str(publication), 'html.parser')\n",
    "    a_tags = publication_soup.find_all('a') # find all anchor elements\n",
    "    hrefs = [\"https://repositorio.unsaac.edu.pe\" + a_tag['href'] + \"?show=full\" for a_tag in a_tags]\n",
    "    return hrefs"
   ]
  },
  {
   "cell_type": "code",
   "execution_count": 3,
   "id": "0f84bb26",
   "metadata": {},
   "outputs": [
    {
     "data": {
      "text/plain": [
       "['https://repositorio.unsaac.edu.pe/handle/20.500.12918/5935?show=full',\n",
       " 'https://repositorio.unsaac.edu.pe/handle/20.500.12918/5427?show=full',\n",
       " 'https://repositorio.unsaac.edu.pe/handle/20.500.12918/5796?show=full',\n",
       " 'https://repositorio.unsaac.edu.pe/handle/20.500.12918/6487?show=full',\n",
       " 'https://repositorio.unsaac.edu.pe/handle/20.500.12918/7055?show=full',\n",
       " 'https://repositorio.unsaac.edu.pe/handle/20.500.12918/4106?show=full',\n",
       " 'https://repositorio.unsaac.edu.pe/handle/20.500.12918/1119?show=full',\n",
       " 'https://repositorio.unsaac.edu.pe/handle/20.500.12918/926?show=full',\n",
       " 'https://repositorio.unsaac.edu.pe/handle/20.500.12918/1055?show=full',\n",
       " 'https://repositorio.unsaac.edu.pe/handle/20.500.12918/1026?show=full',\n",
       " 'https://repositorio.unsaac.edu.pe/handle/20.500.12918/1053?show=full',\n",
       " 'https://repositorio.unsaac.edu.pe/handle/20.500.12918/1070?show=full',\n",
       " 'https://repositorio.unsaac.edu.pe/handle/20.500.12918/1080?show=full',\n",
       " 'https://repositorio.unsaac.edu.pe/handle/20.500.12918/949?show=full',\n",
       " 'https://repositorio.unsaac.edu.pe/handle/20.500.12918/1058?show=full',\n",
       " 'https://repositorio.unsaac.edu.pe/handle/20.500.12918/993?show=full',\n",
       " 'https://repositorio.unsaac.edu.pe/handle/20.500.12918/1056?show=full',\n",
       " 'https://repositorio.unsaac.edu.pe/handle/20.500.12918/1064?show=full',\n",
       " 'https://repositorio.unsaac.edu.pe/handle/20.500.12918/1051?show=full',\n",
       " 'https://repositorio.unsaac.edu.pe/handle/20.500.12918/1062?show=full']"
      ]
     },
     "execution_count": 3,
     "metadata": {},
     "output_type": "execute_result"
    }
   ],
   "source": [
    "links_scrapy('https://repositorio.unsaac.edu.pe/browse?type=dateissued')"
   ]
  },
  {
   "cell_type": "code",
   "execution_count": null,
   "id": "cee8a673",
   "metadata": {},
   "outputs": [],
   "source": []
  },
  {
   "cell_type": "code",
   "execution_count": null,
   "id": "fe13f3a2",
   "metadata": {},
   "outputs": [],
   "source": []
  },
  {
   "cell_type": "code",
   "execution_count": null,
   "id": "0ad886dc",
   "metadata": {},
   "outputs": [],
   "source": []
  }
 ],
 "metadata": {
  "kernelspec": {
   "display_name": "Python 3 (ipykernel)",
   "language": "python",
   "name": "python3"
  },
  "language_info": {
   "codemirror_mode": {
    "name": "ipython",
    "version": 3
   },
   "file_extension": ".py",
   "mimetype": "text/x-python",
   "name": "python",
   "nbconvert_exporter": "python",
   "pygments_lexer": "ipython3",
   "version": "3.9.12"
  }
 },
 "nbformat": 4,
 "nbformat_minor": 5
}
