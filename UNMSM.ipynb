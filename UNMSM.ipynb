{
 "cells": [
  {
   "cell_type": "markdown",
   "id": "65a71e6d",
   "metadata": {},
   "source": [
    "<h1 style=\"text-align: center\">\n",
    "<strong>WEB SCRAPING - REPOSITORIO DE UNMSM</strong>\n",
    "</h1>\n",
    "\n",
    "**Nombre:** Alex Jesus Flores Taco (20210833)\n",
    "\n",
    "**Descripción del caso:**\n",
    "Se quiere obtener información estructurada de las tesis de pregrado y posgrado de Estadística \n",
    "Informática o de carreras similares desarrolladas a nivel  nacional, a través de los repositorios \n",
    "institucionales de las universidades.\n",
    "\n",
    "**Especificaciones:**\n",
    "1. El repositorio escogido es el de la Universidad Nacional Mayor de San Marcos(UNMSM). \n",
    "El respectivo url de dicho repositorio es:  http://cybertesis.unmsm.edu.pe/handle/20.500.12672/7/browse?type=dateissued \n",
    "**Observación:** Escrapeamos el repositorio de la Facultad de Ciencias Matemáticas listado por fecha de publicación ya que en esta se encuentran la especialidad de estadistica dentro de la UNMSM"
   ]
  },
  {
   "cell_type": "code",
   "execution_count": 1,
   "id": "2de07d75",
   "metadata": {},
   "outputs": [],
   "source": [
    "# Cargando librerías o módulos pertinentes\n",
    "import requests\n",
    "from bs4 import BeautifulSoup\n",
    "import re\n",
    "import itertools\n",
    "import pandas as pd"
   ]
  },
  {
   "cell_type": "code",
   "execution_count": 2,
   "id": "473c1705",
   "metadata": {},
   "outputs": [],
   "source": [
    "# Creando una función que permite extraer todas las urls de las páginas que contienen\n",
    "# las publicaciones encontradas en erespectivo repositorio\n",
    "def all_pages(url):\n",
    "    # Descargar el contenido de la página\n",
    "    page = requests.get(url)\n",
    "    # Crear un objeto BeautifulSoup a partir del contenido de la página\n",
    "    soup = BeautifulSoup(page.content, \"html.parser\")\n",
    "    # Encontrar el tag a que contiene el url base de las páginas que contienen las publicaciones\n",
    "    pages = soup.find_all(\"a\", {\"class\":\"next-page-link\"})\n",
    "    # Extraer el url base de las páginas que contienen las publicaciones\n",
    "    pages_soup = BeautifulSoup(str(pages), 'html.parser')\n",
    "    a_tags = pages_soup.find_all('a') # find all anchor elements\n",
    "    base_href = [\"http://cybertesis.unmsm.edu.pe/handle/20.500.12672/7/\" + a_tag['href'] for a_tag in a_tags][0]\n",
    "    # Crear lista de límites inferiores de cada url-página\n",
    "    string_pages = soup.find_all(\"p\", {\"class\":\"pagination-info\"})\n",
    "    matches = re.findall(\"\\d+\", str(string_pages[0]))\n",
    "    lower_limit_max = (max([int(item) for item in matches]) // 20) * 20\n",
    "    lower_limits = list(range(0, lower_limit_max + 20, 20))\n",
    "    # Crear lista de urls de cada una de las páginas \n",
    "    hrefs_all = [re.sub(r\"offset=\\d+\", \"offset=\" + str(pag), base_href) for pag in lower_limits]\n",
    "    return hrefs_all"
   ]
  },
  {
   "cell_type": "code",
   "execution_count": 3,
   "id": "23762697",
   "metadata": {},
   "outputs": [
    {
     "data": {
      "text/plain": [
       "['http://cybertesis.unmsm.edu.pe/handle/20.500.12672/7/browse?rpp=20&sort_by=2&type=dateissued&offset=0&etal=-1&order=ASC',\n",
       " 'http://cybertesis.unmsm.edu.pe/handle/20.500.12672/7/browse?rpp=20&sort_by=2&type=dateissued&offset=20&etal=-1&order=ASC',\n",
       " 'http://cybertesis.unmsm.edu.pe/handle/20.500.12672/7/browse?rpp=20&sort_by=2&type=dateissued&offset=40&etal=-1&order=ASC',\n",
       " 'http://cybertesis.unmsm.edu.pe/handle/20.500.12672/7/browse?rpp=20&sort_by=2&type=dateissued&offset=60&etal=-1&order=ASC',\n",
       " 'http://cybertesis.unmsm.edu.pe/handle/20.500.12672/7/browse?rpp=20&sort_by=2&type=dateissued&offset=80&etal=-1&order=ASC',\n",
       " 'http://cybertesis.unmsm.edu.pe/handle/20.500.12672/7/browse?rpp=20&sort_by=2&type=dateissued&offset=100&etal=-1&order=ASC',\n",
       " 'http://cybertesis.unmsm.edu.pe/handle/20.500.12672/7/browse?rpp=20&sort_by=2&type=dateissued&offset=120&etal=-1&order=ASC',\n",
       " 'http://cybertesis.unmsm.edu.pe/handle/20.500.12672/7/browse?rpp=20&sort_by=2&type=dateissued&offset=140&etal=-1&order=ASC',\n",
       " 'http://cybertesis.unmsm.edu.pe/handle/20.500.12672/7/browse?rpp=20&sort_by=2&type=dateissued&offset=160&etal=-1&order=ASC',\n",
       " 'http://cybertesis.unmsm.edu.pe/handle/20.500.12672/7/browse?rpp=20&sort_by=2&type=dateissued&offset=180&etal=-1&order=ASC',\n",
       " 'http://cybertesis.unmsm.edu.pe/handle/20.500.12672/7/browse?rpp=20&sort_by=2&type=dateissued&offset=200&etal=-1&order=ASC',\n",
       " 'http://cybertesis.unmsm.edu.pe/handle/20.500.12672/7/browse?rpp=20&sort_by=2&type=dateissued&offset=220&etal=-1&order=ASC',\n",
       " 'http://cybertesis.unmsm.edu.pe/handle/20.500.12672/7/browse?rpp=20&sort_by=2&type=dateissued&offset=240&etal=-1&order=ASC',\n",
       " 'http://cybertesis.unmsm.edu.pe/handle/20.500.12672/7/browse?rpp=20&sort_by=2&type=dateissued&offset=260&etal=-1&order=ASC',\n",
       " 'http://cybertesis.unmsm.edu.pe/handle/20.500.12672/7/browse?rpp=20&sort_by=2&type=dateissued&offset=280&etal=-1&order=ASC',\n",
       " 'http://cybertesis.unmsm.edu.pe/handle/20.500.12672/7/browse?rpp=20&sort_by=2&type=dateissued&offset=300&etal=-1&order=ASC',\n",
       " 'http://cybertesis.unmsm.edu.pe/handle/20.500.12672/7/browse?rpp=20&sort_by=2&type=dateissued&offset=320&etal=-1&order=ASC',\n",
       " 'http://cybertesis.unmsm.edu.pe/handle/20.500.12672/7/browse?rpp=20&sort_by=2&type=dateissued&offset=340&etal=-1&order=ASC',\n",
       " 'http://cybertesis.unmsm.edu.pe/handle/20.500.12672/7/browse?rpp=20&sort_by=2&type=dateissued&offset=360&etal=-1&order=ASC',\n",
       " 'http://cybertesis.unmsm.edu.pe/handle/20.500.12672/7/browse?rpp=20&sort_by=2&type=dateissued&offset=380&etal=-1&order=ASC',\n",
       " 'http://cybertesis.unmsm.edu.pe/handle/20.500.12672/7/browse?rpp=20&sort_by=2&type=dateissued&offset=400&etal=-1&order=ASC',\n",
       " 'http://cybertesis.unmsm.edu.pe/handle/20.500.12672/7/browse?rpp=20&sort_by=2&type=dateissued&offset=420&etal=-1&order=ASC',\n",
       " 'http://cybertesis.unmsm.edu.pe/handle/20.500.12672/7/browse?rpp=20&sort_by=2&type=dateissued&offset=440&etal=-1&order=ASC',\n",
       " 'http://cybertesis.unmsm.edu.pe/handle/20.500.12672/7/browse?rpp=20&sort_by=2&type=dateissued&offset=460&etal=-1&order=ASC',\n",
       " 'http://cybertesis.unmsm.edu.pe/handle/20.500.12672/7/browse?rpp=20&sort_by=2&type=dateissued&offset=480&etal=-1&order=ASC',\n",
       " 'http://cybertesis.unmsm.edu.pe/handle/20.500.12672/7/browse?rpp=20&sort_by=2&type=dateissued&offset=500&etal=-1&order=ASC',\n",
       " 'http://cybertesis.unmsm.edu.pe/handle/20.500.12672/7/browse?rpp=20&sort_by=2&type=dateissued&offset=520&etal=-1&order=ASC']"
      ]
     },
     "execution_count": 3,
     "metadata": {},
     "output_type": "execute_result"
    }
   ],
   "source": [
    "all_pages('http://cybertesis.unmsm.edu.pe/handle/20.500.12672/7/browse?type=dateissued')"
   ]
  },
  {
   "cell_type": "code",
   "execution_count": 4,
   "id": "6d3b5348",
   "metadata": {},
   "outputs": [],
   "source": [
    "# Creando una función que permite extraer todas las urls de la tabla de datos de las\n",
    "# publicaciones de una determina página\n",
    "def links_scrapy(url):\n",
    "    # Descargar el contenido de la página\n",
    "    page = requests.get(url)\n",
    "    # Crear un objeto BeautifulSoup a partir del contenido de la página\n",
    "    soup = BeautifulSoup(page.content, \"html.parser\")\n",
    "    # Encontrar el tag padre de las publicaciones que contiene su respectivo url\n",
    "    publication = soup.find_all(\"h4\", {\"class\":\"artifact-title\"})\n",
    "    # Extraer los url de los tags hijos respectivos\n",
    "    publication_soup = BeautifulSoup(str(publication), 'html.parser')\n",
    "    a_tags = publication_soup.find_all('a') # find all anchor elements\n",
    "    hrefs = [\"http://cybertesis.unmsm.edu.pe\" + a_tag['href'] + \"?show=full\" for a_tag in a_tags]\n",
    "    return hrefs"
   ]
  },
  {
   "cell_type": "code",
   "execution_count": 5,
   "id": "74995052",
   "metadata": {},
   "outputs": [
    {
     "data": {
      "text/plain": [
       "['http://cybertesis.unmsm.edu.pe/handle/20.500.12672/1520?show=full',\n",
       " 'http://cybertesis.unmsm.edu.pe/handle/20.500.12672/15729?show=full',\n",
       " 'http://cybertesis.unmsm.edu.pe/handle/20.500.12672/608?show=full',\n",
       " 'http://cybertesis.unmsm.edu.pe/handle/20.500.12672/2905?show=full',\n",
       " 'http://cybertesis.unmsm.edu.pe/handle/20.500.12672/2674?show=full',\n",
       " 'http://cybertesis.unmsm.edu.pe/handle/20.500.12672/300?show=full',\n",
       " 'http://cybertesis.unmsm.edu.pe/handle/20.500.12672/12786?show=full',\n",
       " 'http://cybertesis.unmsm.edu.pe/handle/20.500.12672/2280?show=full',\n",
       " 'http://cybertesis.unmsm.edu.pe/handle/20.500.12672/2281?show=full',\n",
       " 'http://cybertesis.unmsm.edu.pe/handle/20.500.12672/1749?show=full',\n",
       " 'http://cybertesis.unmsm.edu.pe/handle/20.500.12672/5976?show=full',\n",
       " 'http://cybertesis.unmsm.edu.pe/handle/20.500.12672/12780?show=full',\n",
       " 'http://cybertesis.unmsm.edu.pe/handle/20.500.12672/12779?show=full',\n",
       " 'http://cybertesis.unmsm.edu.pe/handle/20.500.12672/15809?show=full',\n",
       " 'http://cybertesis.unmsm.edu.pe/handle/20.500.12672/9357?show=full',\n",
       " 'http://cybertesis.unmsm.edu.pe/handle/20.500.12672/11791?show=full',\n",
       " 'http://cybertesis.unmsm.edu.pe/handle/20.500.12672/12128?show=full',\n",
       " 'http://cybertesis.unmsm.edu.pe/handle/20.500.12672/8607?show=full',\n",
       " 'http://cybertesis.unmsm.edu.pe/handle/20.500.12672/2279?show=full',\n",
       " 'http://cybertesis.unmsm.edu.pe/handle/20.500.12672/2676?show=full']"
      ]
     },
     "execution_count": 5,
     "metadata": {},
     "output_type": "execute_result"
    }
   ],
   "source": [
    "links_scrapy('http://cybertesis.unmsm.edu.pe/handle/20.500.12672/7/browse?type=dateissued')"
   ]
  },
  {
   "cell_type": "code",
   "execution_count": 6,
   "id": "1b3cf71d",
   "metadata": {},
   "outputs": [],
   "source": [
    "### TENER CUIDADO CON AL EJECUCIOND E ESTE CODIGO SON 5769 TESIS Y MI LAPOTP NO AGUANTA\n",
    "\n",
    "# Extracción de todas las urls de la tabla de datos de todas las\n",
    "# publicaciones del repositorio\n",
    "# NOTA: no se recomienda ejecutar esta celda, ya que toma demasiado tiempo obtener una salida\n",
    "every_page = all_pages('http://cybertesis.unmsm.edu.pe/handle/20.500.12672/7/browse?type=dateissued')\n",
    "publications_links = list(itertools.chain(*[links_scrapy(url) for url in every_page[0:2]]))"
   ]
  },
  {
   "cell_type": "code",
   "execution_count": 7,
   "id": "cf31ddba",
   "metadata": {},
   "outputs": [
    {
     "data": {
      "text/plain": [
       "40"
      ]
     },
     "execution_count": 7,
     "metadata": {},
     "output_type": "execute_result"
    }
   ],
   "source": [
    "len(publications_links)"
   ]
  },
  {
   "cell_type": "code",
   "execution_count": null,
   "id": "1835d1dd",
   "metadata": {},
   "outputs": [],
   "source": [
    "publications_links"
   ]
  },
  {
   "cell_type": "code",
   "execution_count": 8,
   "id": "50ef33c9",
   "metadata": {},
   "outputs": [],
   "source": [
    "## CREEAMOS  LISTAS PARA LA VARIABLES QUE DESEAMOS EXTRAER.\n",
    "\n",
    "headers = {\"User-agent\": 'Mozilla/5.0 (Windows NT 10.0; Win64; x64) AppleWebKit/537.36 (KHTML, like Gecko) Chrome/79.0.3945.130 Safari/537.36'}\n",
    "\n",
    "\n",
    "años = []\n",
    "instituciones = []\n",
    "titulos = []\n",
    "autores = []\n",
    "contribuidores = []\n",
    "grados = []\n",
    "resumenes = []\n",
    "n = 0\n",
    "for i in range(len(publications_links)):\n",
    "    respuesta = requests.get(publications_links[i], headers=headers)\n",
    "    tabla_tesis = pd.read_html(respuesta.content, encoding = 'utf8')\n",
    "    tabla_1 = tabla_tesis[0]\n",
    "\n",
    "\n",
    "    for j in range(len(tabla_1)):\n",
    "        if tabla_1.iloc[j,0] == 'dc.date.issued':\n",
    "            año=tabla_1.iloc[j,1]\n",
    "            años.append(año)\n",
    "            n = n + 1\n",
    "    if n == 0:\n",
    "        años.append(\" \")\n",
    "\n",
    "    else:\n",
    "        n = 0\n",
    "\n",
    "\n",
    "\n",
    "    for j in range(len(tabla_1)):\n",
    "        if tabla_1.iloc[j,0] == 'dc.publisher':\n",
    "            institucion=tabla_1.iloc[j,1]\n",
    "            instituciones.append(institucion)\n",
    "            n = n + 1\n",
    "    if n == 0:\n",
    "        instituciones.append(\" \")\n",
    "\n",
    "    else:\n",
    "        n = 0\n",
    "\n",
    "\n",
    "\n",
    "    for j in range(len(tabla_1)):        \n",
    "        if tabla_1.iloc[j,0] == 'dc.title':\n",
    "            titulo=tabla_1.iloc[j,1]\n",
    "            titulos.append(titulo)\n",
    "            n = n + 1\n",
    "    if n == 0:\n",
    "            titulos.append(\" \")\n",
    "\n",
    "    else:\n",
    "        n = 0\n",
    "\n",
    "\n",
    "\n",
    "    for j in range(len(tabla_1)):\n",
    "        if tabla_1.iloc[j,0] == 'dc.contributor.author':\n",
    "            autor=tabla_1.iloc[j,1]\n",
    "            autores.append(autor)\n",
    "            n = n + 1\n",
    "            break\n",
    "    if n == 0:\n",
    "            autores.append(\" \")\n",
    "\n",
    "    else:\n",
    "        n = 0 \n",
    "\n",
    "\n",
    "\n",
    "    for j in range(len(tabla_1)):\n",
    "        if tabla_1.iloc[j,0] == 'thesis.degree.name':\n",
    "            grado=tabla_1.iloc[j,1]\n",
    "            grados.append(grado)\n",
    "            n = n + 1\n",
    "    if n == 0:\n",
    "            grados.append(\" \")\n",
    "\n",
    "    else:\n",
    "        n = 0\n",
    "\n",
    "\n",
    "\n",
    "    for j in range(len(tabla_1)):\n",
    "        if tabla_1.iloc[j,0] == 'dc.contributor.advisor':\n",
    "            contribuidor=tabla_1.iloc[j,1]\n",
    "            contribuidores.append(contribuidor)\n",
    "            n = n + 1\n",
    "            break\n",
    "    if n == 0:\n",
    "            contribuidores.append(\" \")\n",
    "    else:\n",
    "        n = 0\n",
    "\n",
    "\n",
    "\n",
    "    for j in range(len(tabla_1)):\n",
    "        if tabla_1.iloc[j,0] == 'dc.description.abstract':\n",
    "            resumen=tabla_1.iloc[j,1]\n",
    "            resumenes.append(resumen)\n",
    "            n = n + 1\n",
    "            break\n",
    "    if n == 0:\n",
    "            resumenes.append(\" \")\n",
    "    else:\n",
    "        n = 0\n",
    "        "
   ]
  },
  {
   "cell_type": "code",
   "execution_count": null,
   "id": "9d295fbd",
   "metadata": {},
   "outputs": [],
   "source": [
    "len(años)"
   ]
  },
  {
   "cell_type": "code",
   "execution_count": null,
   "id": "45a66b28",
   "metadata": {},
   "outputs": [],
   "source": [
    "#creamos un dataframe para poder guardarlos en un archivo csv\n",
    "\n",
    "df = pd.DataFrame()\n",
    "\n",
    "df['instituciones'] = instituciones\n",
    "df['titulos'] = titulos\n",
    "df['autores'] = autores\n",
    "df['contribuidores'] = contribuidores\n",
    "df['resumenes'] = resumenes\n",
    "df['grados'] = grados\n",
    "df['años'] = años"
   ]
  },
  {
   "cell_type": "code",
   "execution_count": null,
   "id": "94ccf6af",
   "metadata": {},
   "outputs": [],
   "source": [
    "#GUARDAMOS LA INFROMACION EN UN ARCHIVO CSV\n",
    "\n",
    "df.to_csv('UNSAAC.csv', index=False)\n",
    "df"
   ]
  },
  {
   "cell_type": "code",
   "execution_count": null,
   "id": "e538fe38",
   "metadata": {},
   "outputs": [],
   "source": []
  }
 ],
 "metadata": {
  "kernelspec": {
   "display_name": "Python 3 (ipykernel)",
   "language": "python",
   "name": "python3"
  },
  "language_info": {
   "codemirror_mode": {
    "name": "ipython",
    "version": 3
   },
   "file_extension": ".py",
   "mimetype": "text/x-python",
   "name": "python",
   "nbconvert_exporter": "python",
   "pygments_lexer": "ipython3",
   "version": "3.9.12"
  }
 },
 "nbformat": 4,
 "nbformat_minor": 5
}
